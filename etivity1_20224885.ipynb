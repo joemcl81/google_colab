{
  "nbformat": 4,
  "nbformat_minor": 0,
  "metadata": {
    "colab": {
      "name": "etivity1_20224885.ipynb",
      "provenance": [],
      "collapsed_sections": []
    },
    "kernelspec": {
      "name": "python3",
      "display_name": "Python 3"
    }
  },
  "cells": [
    {
      "cell_type": "markdown",
      "metadata": {
        "id": "rM2-ZAHecusI"
      },
      "source": [
        "Joseph Mc Laughlin, 20224885"
      ]
    },
    {
      "cell_type": "markdown",
      "metadata": {
        "id": "GD0if9apY-E2"
      },
      "source": [
        "\n",
        "Task 1:\n",
        "\n",
        "Write a function in Python which takes a string as input and uses regular expressions to:\n",
        "\n",
        "(a) check if the given string is a valid Eircode or not; and \n",
        "\n",
        "(b) if the string is a valid Eircode, identify and print the Eircode's geographical district\n",
        "\n",
        "[3 marks]\n",
        "\n",
        "---"
      ]
    },
    {
      "cell_type": "code",
      "metadata": {
        "id": "xRV0a_jpXT80",
        "outputId": "160efa7b-2aab-47fc-d0a7-719d95069aca",
        "colab": {
          "base_uri": "https://localhost:8080/",
          "height": 131
        }
      },
      "source": [
        "import re\n",
        "import csv\n",
        "\n",
        "!wget https://gist.githubusercontent.com/ajoorabchi/eac194a79dd26de8864f9206b7842ff1/raw/8ea1d8d5f74b5b2724e378b43d4df6094990c7db/Eircode%2520Routing%2520Key%2520Boundaries.csv\n",
        "filePath = \"/content/Eircode Routing Key Boundaries.csv\"\n",
        "\n",
        "with open(filePath, 'r') as f:\n",
        "  reader = csv.reader(f)\n",
        "  KeyRouteList = list(map(tuple, reader))\n",
        "\n",
        "print(KeyRouteList)\n",
        "\n",
        "def eircodeValidator(eircode):\n",
        "  #Answer Here\n",
        "\n",
        "eircodeValidator(\"V94T9PX\")\n",
        "eircodeValidator(\"v94T9PX\")"
      ],
      "execution_count": null,
      "outputs": [
        {
          "output_type": "error",
          "ename": "IndentationError",
          "evalue": "ignored",
          "traceback": [
            "\u001b[0;36m  File \u001b[0;32m\"<ipython-input-4-8e1bbbc2c131>\"\u001b[0;36m, line \u001b[0;32m16\u001b[0m\n\u001b[0;31m    eircodeValidator(\"V94T9PX\")\u001b[0m\n\u001b[0m                   ^\u001b[0m\n\u001b[0;31mIndentationError\u001b[0m\u001b[0;31m:\u001b[0m expected an indented block\n"
          ]
        }
      ]
    },
    {
      "cell_type": "markdown",
      "metadata": {
        "id": "MgVRQLVKY0sC"
      },
      "source": [
        "Task 2:\n",
        "1. Download the 'Complete Works of William Shakespeare' from here\n",
        "2. Read in the content of the file and print its first 50 lines.\n",
        "\n",
        "---"
      ]
    },
    {
      "cell_type": "code",
      "metadata": {
        "id": "c8DfFRnAZv6Q",
        "outputId": "00078878-5744-4c7f-ca4e-5dbc9646f7ed",
        "colab": {
          "base_uri": "https://localhost:8080/",
          "height": 245
        }
      },
      "source": [
        "!wget https://www.gutenberg.org/files/100/100-0.txt\n",
        "filePath = \"/content/100-0.txt\"\n",
        "\n",
        "ShakespeareFile = open(filePath, \"r\")\n",
        "ShakespeareContent = ShakespeareFile.read()\n",
        "ShakespeareContent = ShakespeareContent.splitlines()\n",
        "print(ShakespeareContent[0:50])"
      ],
      "execution_count": null,
      "outputs": [
        {
          "output_type": "stream",
          "text": [
            "--2020-10-16 17:16:55--  https://www.gutenberg.org/files/100/100-0.txt\n",
            "Resolving www.gutenberg.org (www.gutenberg.org)... 152.19.134.47, 2610:28:3090:3000:0:bad:cafe:47\n",
            "Connecting to www.gutenberg.org (www.gutenberg.org)|152.19.134.47|:443... connected.\n",
            "HTTP request sent, awaiting response... 200 OK\n",
            "Length: 5767184 (5.5M) [text/plain]\n",
            "Saving to: ‘100-0.txt.2’\n",
            "\n",
            "100-0.txt.2         100%[===================>]   5.50M  4.16MB/s    in 1.3s    \n",
            "\n",
            "2020-10-16 17:16:57 (4.16 MB/s) - ‘100-0.txt.2’ saved [5767184/5767184]\n",
            "\n",
            "['\\ufeffProject Gutenberg’s The Complete Works of William Shakespeare, by William Shakespeare', '', 'This eBook is for the use of anyone anywhere in the United States and', 'most other parts of the world at no cost and with almost no restrictions', 'whatsoever.  You may copy it, give it away or re-use it under the terms', 'of the Project Gutenberg License included with this eBook or online at', 'www.gutenberg.org.  If you are not located in the United States, you’ll', 'have to check the laws of the country where you are located before using', 'this ebook.', '', '', 'Title: The Complete Works of William Shakespeare', '', 'Author: William Shakespeare', '', 'Release Date: January 1994 [EBook #100]', 'Last Updated: August 6, 2020', '', 'Language: English', '', 'Character set encoding: UTF-8', '', '*** START OF THIS PROJECT GUTENBERG EBOOK THE COMPLETE WORKS OF WILLIAM SHAKESPEARE ***', '', '', '', '', 'The Complete Works of William Shakespeare', '', '', '', 'by William Shakespeare', '', '', '', '', '      Contents', '', '', '', '               THE SONNETS', '', '               ALL’S WELL THAT ENDS WELL', '', '               THE TRAGEDY OF ANTONY AND CLEOPATRA', '', '               AS YOU LIKE IT', '', '               THE COMEDY OF ERRORS', '']\n"
          ],
          "name": "stdout"
        }
      ]
    },
    {
      "cell_type": "markdown",
      "metadata": {
        "id": "2NIjle5vZwSj"
      },
      "source": [
        "3. Use the tf.keras.preprocessing.text.Tokenizer class to:\n",
        "Tokenize the Shakespeare corpus\n",
        "\n",
        "    (a) Print out the total number of  Tokens in the corpus\n",
        "\n",
        "    (b) print out the total number of Types in the corpus\n",
        "    \n",
        "    (c) Print out the most frequent Type in corpus and its frequency\n",
        "\n",
        "[3 marks]\n",
        "\n",
        "---"
      ]
    },
    {
      "cell_type": "code",
      "metadata": {
        "id": "gckGg1uYb-0k"
      },
      "source": [
        ""
      ],
      "execution_count": null,
      "outputs": []
    },
    {
      "cell_type": "markdown",
      "metadata": {
        "id": "U5vyNF15auWp"
      },
      "source": [
        "4. Use the PorterStemmer in the NLTK package to: \n",
        "\n",
        "    (a) stem all the Types in the Shakespeare corpus\n",
        "\n",
        "    (b) print out the total number of Types in the corpus after stemming (you should see ~30% reduction after stemming)\n",
        "\n",
        "[2 marks]\n",
        "\n",
        "\n",
        "\n"
      ]
    },
    {
      "cell_type": "code",
      "metadata": {
        "id": "Vmv8gAQSa-dv"
      },
      "source": [
        ""
      ],
      "execution_count": null,
      "outputs": []
    },
    {
      "cell_type": "markdown",
      "metadata": {
        "id": "_NMwNUf4a-0H"
      },
      "source": [
        "5. Use the Sentence Segmentation module in the spaCy package to: \n",
        "\n",
        "      (a) Segment sentences in the last 100 lines of the Shakespeare corpus\n",
        "\n",
        "      (b) print out the sentences and their total number\n",
        "\n",
        "[2 marks]\n",
        "\n",
        "---\n",
        "\n"
      ]
    },
    {
      "cell_type": "code",
      "metadata": {
        "id": "X4HLWvidb_bK"
      },
      "source": [
        ""
      ],
      "execution_count": null,
      "outputs": []
    }
  ]
}