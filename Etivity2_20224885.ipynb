{
  "nbformat": 4,
  "nbformat_minor": 0,
  "metadata": {
    "colab": {
      "name": "E-tivity2_20224885.ipynb",
      "provenance": [],
      "authorship_tag": "ABX9TyNb58IN9EZP0hNGwDpvK4+q",
      "include_colab_link": true
    },
    "kernelspec": {
      "name": "python3",
      "display_name": "Python 3"
    }
  },
  "cells": [
    {
      "cell_type": "markdown",
      "metadata": {
        "id": "view-in-github",
        "colab_type": "text"
      },
      "source": [
        "<a href=\"https://colab.research.google.com/github/joemcl81/google_colab/blob/main/Etivity2_20224885.ipynb\" target=\"_parent\"><img src=\"https://colab.research.google.com/assets/colab-badge.svg\" alt=\"Open In Colab\"/></a>"
      ]
    },
    {
      "cell_type": "markdown",
      "metadata": {
        "id": "8dHXZItiuceo"
      },
      "source": [
        "Joseph Mc Laughlin, 20224885\n",
        "\n",
        "E-tivity2"
      ]
    },
    {
      "cell_type": "markdown",
      "metadata": {
        "id": "Uz3Lb2HbumP0"
      },
      "source": [
        "Task 1: [2 marks]\n",
        "\n",
        "Modify the code below to achieve the following:\n",
        "\n",
        "(a) the editDistance function should measure the Levenshtein distance,  i. e. insertion cost = 1, deletion cost = 1, substitution cost = 2\n",
        "\n",
        "(b) use the Python time.time() function to measure the processing time\n"
      ]
    },
    {
      "cell_type": "code",
      "metadata": {
        "id": "xyaizOFiubr5",
        "outputId": "ebffcc54-48d9-406f-9cf8-128bfc7154c3",
        "colab": {
          "base_uri": "https://localhost:8080/"
        }
      },
      "source": [
        "import time\n",
        "def edDistRecursive(x, y):\n",
        "  start = time.time()\n",
        "  #print(\"Time elapsed on working...\")\n",
        "  if len(x) == 0: return len(y)\n",
        "  if len(y) == 0: return len(x)\n",
        "  delt = 1 if x[-1] != y[-1] else 0\n",
        "  diag = edDistRecursive(x[:-1], y[:-1]) + delt\n",
        "  vert = edDistRecursive(x[:-1], y) + 1\n",
        "  horz = edDistRecursive(x, y[:-1]) + 1\n",
        "  end = time.time()\n",
        "  return min(diag, vert, horz)\n",
        "\n",
        "print(edDistRecursive(\"INTENTION\",\"EXECUTION\"))"
      ],
      "execution_count": 71,
      "outputs": [
        {
          "output_type": "stream",
          "text": [
            "5\n"
          ],
          "name": "stdout"
        }
      ]
    },
    {
      "cell_type": "code",
      "metadata": {
        "id": "DuawxMVnCoRi",
        "outputId": "45c91343-0402-4669-e01a-3a9a0a95d92a",
        "colab": {
          "base_uri": "https://localhost:8080/"
        }
      },
      "source": [
        "def levenshtein(x, y):\n",
        "    start = time.time()\n",
        "    if x == \"\":\n",
        "        return len(y)\n",
        "    if y == \"\":\n",
        "        return len(x)\n",
        "    if x[-1] == y[-1]:\n",
        "        cost = 0\n",
        "    else:\n",
        "        cost = 2\n",
        "    \n",
        "    res = min([levenshtein(x[:-1], y)+1,\n",
        "               levenshtein(x, y[:-1])+1, \n",
        "               levenshtein(x[:-1], y[:-1]) + cost])\n",
        "    end = time.time()\n",
        "    return res\n",
        "\n",
        "\n",
        "print(levenshtein(\"INTENTION\", \"EXECUTION\"))"
      ],
      "execution_count": 67,
      "outputs": [
        {
          "output_type": "stream",
          "text": [
            "8\n"
          ],
          "name": "stdout"
        }
      ]
    },
    {
      "cell_type": "markdown",
      "metadata": {
        "id": "DvGYpybyvAbm"
      },
      "source": [
        "Task 2: [4 marks]\n",
        "\n",
        "Modify the code below to achieve the following:\n",
        "\n",
        "(a) the editDistance function should measure the Levenshtein distance, i.e. insertion cost = 1, deletion cost = 1, substitution cost = 2\n",
        "\n",
        "(b) use the Python time.time() function to measure the processing time\n",
        "\n",
        "(c) Augment the code so that it outputs a minimum distance table including backtrace pointers in each cell (as shown in the sample output below). you will need to store pointers and add a stage to compute the backtrace.\n",
        "\n"
      ]
    },
    {
      "cell_type": "code",
      "metadata": {
        "id": "xF531ujevIM8",
        "outputId": "f8e28048-0b69-4e0a-82d0-11d05a980d60",
        "colab": {
          "base_uri": "https://localhost:8080/"
        }
      },
      "source": [
        "# A Dynamic Programming based Python program for edit\n",
        "# distance problem\n",
        "def editDistDP(str1, str2, m, n):\n",
        "   start = time.time()\n",
        "   # Create a table to store results of subproblems\n",
        "   dp = [[0 for x in range(n + 1)] for x in range(m + 1)]\n",
        "    # Fill dp[][] in bottom up manner\n",
        "   for i in range(m + 1):\n",
        "       for j in range(n + 1):\n",
        "            # If first string is empty, only option is to\n",
        "           # insert all characters of second string\n",
        "           if i == 0:\n",
        "               dp[i][j] = j    # Min. operations = j\n",
        "            # If second string is empty, only option is to\n",
        "           # remove all characters of second string\n",
        "           elif j == 0:\n",
        "               dp[i][j] = i    # Min. operations = i\n",
        "            # If last characters are same, ignore last char\n",
        "           # and recur for remaining string\n",
        "           elif str1[i-1] == str2[j-1]:\n",
        "               dp[i][j] = dp[i-1][j-1]\n",
        "            # If last character are different, consider all\n",
        "           # possibilities and find minimum\n",
        "           else:\n",
        "               dp[i][j] = 1 + min(dp[i][j-1],        # Insert\n",
        "                                  dp[i-1][j],        # Remove\n",
        "                                  dp[i-1][j-1] + 1)    # Replace\n",
        "   end = time.time()\n",
        "   return dp[m][n], \"Processing time =  %s\" %(end - start)\n",
        " # Driver program\n",
        "str1 = \"INTENTION\"\n",
        "str2 = \"EXECUTION\"\n",
        "print(editDistDP(str1, str2, len(str1), len(str2)))\n",
        "# This code is contributed by Bhavya Jain"
      ],
      "execution_count": 36,
      "outputs": [
        {
          "output_type": "stream",
          "text": [
            "(8, 'Processing time =  5.888938903808594e-05')\n"
          ],
          "name": "stdout"
        }
      ]
    },
    {
      "cell_type": "code",
      "metadata": {
        "id": "pI45lB-GgwDq",
        "outputId": "eb461371-347e-457b-ad4b-4620cd25769a",
        "colab": {
          "base_uri": "https://localhost:8080/"
        }
      },
      "source": [
        "\n",
        "def iterative_levenshtein(str1, str2):\n",
        "    start = time.time()\n",
        "    rows = len(str1)+1\n",
        "    cols = len(str2)+1\n",
        "    dist = [[0 for x in range(cols)] for x in range(rows)]\n",
        "\n",
        "    # source prefixes can be transformed into empty strings \n",
        "    # by deletions:\n",
        "    for i in range(1, rows):\n",
        "        dist[i][0] = i\n",
        "\n",
        "    # target prefixes can be created from an empty source string\n",
        "    # by inserting the characters\n",
        "    for i in range(1, cols):\n",
        "        dist[0][i] = i\n",
        "        \n",
        "    for col in range(1, cols):\n",
        "        for row in range(1, rows):\n",
        "            if str1[row-1] == str2[col-1]:\n",
        "                cost = 0\n",
        "            else:\n",
        "                cost = 2\n",
        "            dist[row][col] = min(dist[row-1][col] + 1,      # deletion\n",
        "                                 dist[row][col-1] + 1,      # insertion\n",
        "                                 dist[row-1][col-1] + cost) # substitution\n",
        "\n",
        "    for r in range(rows):\n",
        "        print(dist[r])\n",
        "    \n",
        "    end = time.time()\n",
        "    return \"Levenshtein distance = %s \" % dist[row][col], \"Processing time =  %s\" %(end - start)\n",
        "\n",
        "print(iterative_levenshtein(\"INTENTION\", \"EXECUTION\"))"
      ],
      "execution_count": 37,
      "outputs": [
        {
          "output_type": "stream",
          "text": [
            "[0, 1, 2, 3, 4, 5, 6, 7, 8, 9]\n",
            "[1, 2, 3, 4, 5, 6, 7, 6, 7, 8]\n",
            "[2, 3, 4, 5, 6, 7, 8, 7, 8, 7]\n",
            "[3, 4, 5, 6, 7, 8, 7, 8, 9, 8]\n",
            "[4, 3, 4, 5, 6, 7, 8, 9, 10, 9]\n",
            "[5, 4, 5, 6, 7, 8, 9, 10, 11, 10]\n",
            "[6, 5, 6, 7, 8, 9, 8, 9, 10, 11]\n",
            "[7, 6, 7, 8, 9, 10, 9, 8, 9, 10]\n",
            "[8, 7, 8, 9, 10, 11, 10, 9, 8, 9]\n",
            "[9, 8, 9, 10, 11, 12, 11, 10, 9, 8]\n",
            "('Levenshtein distance = 8 ', 'Processing time =  0.0005555152893066406')\n"
          ],
          "name": "stdout"
        }
      ]
    },
    {
      "cell_type": "code",
      "metadata": {
        "id": "3_wqE-16jQ6P",
        "outputId": "4e58736b-d762-4d59-e939-2ab681512cbf",
        "colab": {
          "base_uri": "https://localhost:8080/"
        }
      },
      "source": [
        "def iterative_levenshtein(s, t, costs=(1, 1, 2)):\n",
        "    start = time.time()\n",
        "    rows = len(s)+1\n",
        "    cols = len(t)+1\n",
        "    deletes, inserts, substitutes = costs\n",
        "    \n",
        "    dist = [[0 for x in range(cols)] for x in range(rows)]\n",
        "\n",
        "    # source prefixes can be transformed into empty strings \n",
        "    # by deletions:\n",
        "    for row in range(1, rows):\n",
        "        dist[row][0] = row * deletes\n",
        "\n",
        "    # target prefixes can be created from an empty source string\n",
        "    # by inserting the characters\n",
        "    for col in range(1, cols):\n",
        "        dist[0][col] = col * inserts\n",
        "        \n",
        "    for col in range(1, cols):\n",
        "        for row in range(1, rows):\n",
        "            if s[row-1] == t[col-1]:\n",
        "                cost = 0\n",
        "            else:\n",
        "                cost = substitutes\n",
        "            dist[row][col] = min(dist[row-1][col] + deletes,\n",
        "                                 dist[row][col-1] + inserts,\n",
        "                                 dist[row-1][col-1] + cost) # substitution\n",
        "\n",
        "    for r in range(rows):\n",
        "        print(dist[r])\n",
        "    \n",
        " \n",
        "    end = time.time()\n",
        "    return \"Levenshtein distance = %s \" % dist[row][col], \"Processing time =  %s\" %(end - start)\n",
        "\n",
        "# default:\n",
        "print(iterative_levenshtein(\"INTENTION\", \"EXECUTION\"))\n",
        "# inserts and deletes are twice as high as substitutes\n",
        "print(iterative_levenshtein(\"INTENTION\", \"EXECUTION\", costs=(2, 2, 1)))"
      ],
      "execution_count": 31,
      "outputs": [
        {
          "output_type": "stream",
          "text": [
            "[0, 1, 2, 3, 4, 5, 6, 7, 8, 9]\n",
            "[1, 2, 3, 4, 5, 6, 7, 6, 7, 8]\n",
            "[2, 3, 4, 5, 6, 7, 8, 7, 8, 7]\n",
            "[3, 4, 5, 6, 7, 8, 7, 8, 9, 8]\n",
            "[4, 3, 4, 5, 6, 7, 8, 9, 10, 9]\n",
            "[5, 4, 5, 6, 7, 8, 9, 10, 11, 10]\n",
            "[6, 5, 6, 7, 8, 9, 8, 9, 10, 11]\n",
            "[7, 6, 7, 8, 9, 10, 9, 8, 9, 10]\n",
            "[8, 7, 8, 9, 10, 11, 10, 9, 8, 9]\n",
            "[9, 8, 9, 10, 11, 12, 11, 10, 9, 8]\n",
            "('Levenshtein distance = 8 ', 'Processing time =  0.0003311634063720703')\n",
            "[0, 2, 4, 6, 8, 10, 12, 14, 16, 18]\n",
            "[2, 1, 3, 5, 7, 9, 11, 12, 14, 16]\n",
            "[4, 3, 2, 4, 6, 8, 10, 12, 13, 14]\n",
            "[6, 5, 4, 3, 5, 7, 8, 10, 12, 14]\n",
            "[8, 6, 6, 4, 4, 6, 8, 9, 11, 13]\n",
            "[10, 8, 7, 6, 5, 5, 7, 9, 10, 11]\n",
            "[12, 10, 9, 8, 7, 6, 5, 7, 9, 11]\n",
            "[14, 12, 11, 10, 9, 8, 7, 5, 7, 9]\n",
            "[16, 14, 13, 12, 11, 10, 9, 7, 5, 7]\n",
            "[18, 16, 15, 14, 13, 12, 11, 9, 7, 5]\n",
            "('Levenshtein distance = 5 ', 'Processing time =  0.0004703998565673828')\n"
          ],
          "name": "stdout"
        }
      ]
    },
    {
      "cell_type": "markdown",
      "metadata": {
        "id": "ydSSNGQavId7"
      },
      "source": [
        "Task 3: [4 marks]\n",
        "\n",
        "(a) Install the First and Last Names Dataset (https://github.com/philipperemy/name-dataset).  (!pip install names-dataset)\n",
        "\n",
        "(b) Install the jellyfish library for doing approximate and phonetic matching of strings (https://github.com/jamesturk/jellyfish)  (!pip install jellyfish)\n",
        "\n",
        "(c) Write a function that takes your firstName and lastName as input and checks if they exist in the dataset. ⬤\n",
        "\n",
        "(d) Write a function that takes your firstName and lastName as input and prints out their  Soundex codes (use the Soundex function in the jellyfish library). ⬤\n",
        "\n",
        "(e) Write a function that takes your firstName as input and prints out a list of first names in the dataset whose Soundex codes are the same as your firstName’s Soundex code. ⬤\n",
        "\n",
        "(f) Write a function that takes your firstName and lastName as input and returns their Levenshtein Distance (use the Levenshtein Distance function in the jellyfish library). [1 mark] ⬤\n"
      ]
    },
    {
      "cell_type": "code",
      "metadata": {
        "id": "k6rhaaS7wLuD",
        "outputId": "9ddafdaa-917e-4ca7-a716-2bc70e439fb2",
        "colab": {
          "base_uri": "https://localhost:8080/"
        }
      },
      "source": [
        "!pip install names-dataset\n",
        "!pip install jellyfish\n",
        "\n",
        "import re\n",
        "from names_dataset import NameDataset\n",
        "import jellyfish as jf\n",
        "m = NameDataset()\n",
        "\n",
        "def nameExist(firstName, lastName):\n",
        "  return m.search_first_name(firstName), m.search_last_name(lastName)\n",
        "#Test\n",
        "print(nameExist(\"Donald\", \"Trump\"))\n",
        "print(nameExist(\"Joe\", \"Biden\"))\n",
        "\n",
        "def nameSoundex(firstName, lastName):\n",
        "  return jf.soundex(firstName), jf.soundex(lastName)\n",
        "\n",
        "#Test\n",
        "print(nameSoundex('Donald', 'Trump'))\n",
        "print(nameSoundex('Joe', 'Biden'))\n",
        "\n",
        "def matchSoundex(firstName):\n",
        "  c = jf.soundex(firstName)  \n",
        "  for i in m.first_names:\n",
        "    x = re.match(\"[ -~]\", i)\n",
        "    if x:\n",
        "      if c == jf.soundex(i):\n",
        "        print(i)\n",
        "        \n",
        "# Test\n",
        "print(matchSoundex('Donald'))\n",
        "print(matchSoundex('Joe'))\n",
        "\n",
        "\n",
        "def nameDistance(firstName , lastName ):\n",
        "  return jf.levenshtein_distance(firstName, lastName)\n",
        "#Test\n",
        "print(nameDistance('Donald', 'Trump'))\n",
        "print(nameDistance('Joe', 'Biden'))\n",
        "\n",
        "\n"
      ],
      "execution_count": 69,
      "outputs": [
        {
          "output_type": "stream",
          "text": [
            "Requirement already satisfied: names-dataset in /usr/local/lib/python3.6/dist-packages (1.9.1)\n",
            "Requirement already satisfied: jellyfish in /usr/local/lib/python3.6/dist-packages (0.8.2)\n",
            "(True, True)\n",
            "(True, False)\n",
            "('D543', 'T651')\n",
            "('J000', 'B350')\n",
            "donelda\n",
            "donold\n",
            "denelda\n",
            "dómhildur\n",
            "donalda\n",
            "donaldo\n",
            "donaldine\n",
            "doneld\n",
            "donald\n",
            "donlad\n",
            "donaldson\n",
            "donld\n",
            "donnald\n",
            "demilade\n",
            "donaldeen\n",
            "donald-john\n",
            "ddnald\n",
            "dimilta\n",
            "danald\n",
            "donalt\n",
            "donaldina\n",
            "doanld\n",
            "donald-james\n",
            "daniel-edoard\n",
            "danield\n",
            "None\n",
            "jaie\n",
            "jai\n",
            "jio\n",
            "jiayou\n",
            "joi\n",
            "jiwoo\n",
            "jehiah\n",
            "jziah\n",
            "jhiya\n",
            "jeya\n",
            "joia\n",
            "jiho\n",
            "jaeya\n",
            "jiawei\n",
            "jkia\n",
            "jeu\n",
            "jkai\n",
            "jiyu\n",
            "jaewoo\n",
            "johua\n",
            "jc\n",
            "jhy\n",
            "jiaya\n",
            "joie\n",
            "jaea\n",
            "jaiya\n",
            "jsiah\n",
            "jihoo\n",
            "jhai\n",
            "jaihao\n",
            "jahi\n",
            "joé\n",
            "joah\n",
            "joyaa\n",
            "joo\n",
            "jkiyah\n",
            "ju\n",
            "joyia\n",
            "jy\n",
            "joua\n",
            "joahua\n",
            "jaya\n",
            "jayiah\n",
            "jaiyi\n",
            "jaiyah\n",
            "jahiya\n",
            "joe\n",
            "ji\n",
            "jyia\n",
            "jo\n",
            "jea\n",
            "juha\n",
            "joa\n",
            "johah\n",
            "johao\n",
            "joohi\n",
            "joyee\n",
            "jui\n",
            "juhee\n",
            "jhia\n",
            "joei\n",
            "jie\n",
            "juho\n",
            "joao\n",
            "jiu\n",
            "joyah\n",
            "jiya\n",
            "jye\n",
            "joh\n",
            "jue\n",
            "jeeya\n",
            "jw\n",
            "joee\n",
            "jehu\n",
            "jahiyah\n",
            "jyah\n",
            "jiayi\n",
            "jsai\n",
            "jiao\n",
            "jahia\n",
            "jayia\n",
            "joão\n",
            "jahey\n",
            "jhue\n",
            "jia\n",
            "jah\n",
            "jeeo\n",
            "jhuhi\n",
            "jey\n",
            "jiyah\n",
            "jahai\n",
            "jiayue\n",
            "jaye\n",
            "jayah\n",
            "joiya\n",
            "jihae\n",
            "jae\n",
            "joye\n",
            "jiahao\n",
            "johiah\n",
            "jyie\n",
            "joya\n",
            "jay-\n",
            "jew\n",
            "jya\n",
            "jay\n",
            "jee\n",
            "jahya\n",
            "jiah\n",
            "juhi\n",
            "jayy\n",
            "jyiah\n",
            "jaia\n",
            "jaiah\n",
            "jewa\n",
            "jua\n",
            "joey\n",
            "joy\n",
            "None\n",
            "6\n",
            "4\n"
          ],
          "name": "stdout"
        }
      ]
    }
  ]
}