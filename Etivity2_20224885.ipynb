{
  "nbformat": 4,
  "nbformat_minor": 0,
  "metadata": {
    "colab": {
      "name": "E-tivity2_20224885.ipynb",
      "provenance": [],
      "authorship_tag": "ABX9TyPku3+Wj/rHZud9IpTB0wwy",
      "include_colab_link": true
    },
    "kernelspec": {
      "name": "python3",
      "display_name": "Python 3"
    }
  },
  "cells": [
    {
      "cell_type": "markdown",
      "metadata": {
        "id": "view-in-github",
        "colab_type": "text"
      },
      "source": [
        "<a href=\"https://colab.research.google.com/github/joemcl81/google_colab/blob/main/Etivity2_20224885.ipynb\" target=\"_parent\"><img src=\"https://colab.research.google.com/assets/colab-badge.svg\" alt=\"Open In Colab\"/></a>"
      ]
    },
    {
      "cell_type": "markdown",
      "metadata": {
        "id": "8dHXZItiuceo"
      },
      "source": [
        "Joseph Mc Laughlin, 20224885\n",
        "\n",
        "E-tivity2"
      ]
    },
    {
      "cell_type": "markdown",
      "metadata": {
        "id": "Uz3Lb2HbumP0"
      },
      "source": [
        "Task 1: [2 marks]\n",
        "\n",
        "Modify the code below to achieve the following:\n",
        "\n",
        "(a) the editDistance function should measure the Levenshtein distance,  i. e. insertion cost = 1, deletion cost = 1, substitution cost = 2\n",
        "\n",
        "(b) use the Python time.time() function to measure the processing time\n"
      ]
    },
    {
      "cell_type": "code",
      "metadata": {
        "id": "xyaizOFiubr5",
        "outputId": "2327ba73-034b-4694-b939-317d64513833",
        "colab": {
          "base_uri": "https://localhost:8080/"
        }
      },
      "source": [
        "import time\n",
        "def edDistRecursive(x, y):\n",
        "  start = time.time()\n",
        "  #print(\"Time elapsed on working...\")\n",
        "  if len(x) == 0: return len(y)\n",
        "  if len(y) == 0: return len(x)\n",
        "  delt = 1 if x[-1] != y[-1] else 0\n",
        "  diag = edDistRecursive(x[:-1], y[:-1]) + delt\n",
        "  vert = edDistRecursive(x[:-1], y) + 1\n",
        "  horz = edDistRecursive(x, y[:-1]) + 1\n",
        "  end = time.time()\n",
        "  return min(diag, vert, horz)\n",
        "  return \"Time consumed in working = %s \" %(end - start)\n",
        "\n",
        "print(edDistRecursive(\"INTENTION\",\"EXECUTION\"))"
      ],
      "execution_count": null,
      "outputs": [
        {
          "output_type": "stream",
          "text": [
            "5\n"
          ],
          "name": "stdout"
        }
      ]
    },
    {
      "cell_type": "code",
      "metadata": {
        "id": "IcSbLFJu-NPc",
        "outputId": "d55f26c1-8d8c-4054-dbe4-57d2d5935a11",
        "colab": {
          "base_uri": "https://localhost:8080/",
          "height": 374
        }
      },
      "source": [
        "def levenshtein(a, b):\n",
        "    if not a: return len(b)\n",
        "    if not b: return len(a)\n",
        "    return min(levenshtein(a[-1], b)+ 1,\n",
        "               levenshtein(a, b[-1])+ 1,\n",
        "               levenshtein(a[-1], b[-1]) +2)\n",
        "    \n",
        "print(levenshtein(\"INTENTION\",\"EXECUTION\"))"
      ],
      "execution_count": null,
      "outputs": [
        {
          "output_type": "error",
          "ename": "RecursionError",
          "evalue": "ignored",
          "traceback": [
            "\u001b[0;31m---------------------------------------------------------------------------\u001b[0m",
            "\u001b[0;31mRecursionError\u001b[0m                            Traceback (most recent call last)",
            "\u001b[0;32m<ipython-input-113-e3590091185b>\u001b[0m in \u001b[0;36m<module>\u001b[0;34m()\u001b[0m\n\u001b[1;32m      6\u001b[0m                levenshtein(a[-1], b[-1]) +2)\n\u001b[1;32m      7\u001b[0m \u001b[0;34m\u001b[0m\u001b[0m\n\u001b[0;32m----> 8\u001b[0;31m \u001b[0mprint\u001b[0m\u001b[0;34m(\u001b[0m\u001b[0mlevenshtein\u001b[0m\u001b[0;34m(\u001b[0m\u001b[0;34m\"INTENTION\"\u001b[0m\u001b[0;34m,\u001b[0m\u001b[0;34m\"EXECUTION\"\u001b[0m\u001b[0;34m)\u001b[0m\u001b[0;34m)\u001b[0m\u001b[0;34m\u001b[0m\u001b[0;34m\u001b[0m\u001b[0m\n\u001b[0m",
            "\u001b[0;32m<ipython-input-113-e3590091185b>\u001b[0m in \u001b[0;36mlevenshtein\u001b[0;34m(a, b)\u001b[0m\n\u001b[1;32m      2\u001b[0m     \u001b[0;32mif\u001b[0m \u001b[0;32mnot\u001b[0m \u001b[0ma\u001b[0m\u001b[0;34m:\u001b[0m \u001b[0;32mreturn\u001b[0m \u001b[0mlen\u001b[0m\u001b[0;34m(\u001b[0m\u001b[0mb\u001b[0m\u001b[0;34m)\u001b[0m\u001b[0;34m\u001b[0m\u001b[0;34m\u001b[0m\u001b[0m\n\u001b[1;32m      3\u001b[0m     \u001b[0;32mif\u001b[0m \u001b[0;32mnot\u001b[0m \u001b[0mb\u001b[0m\u001b[0;34m:\u001b[0m \u001b[0;32mreturn\u001b[0m \u001b[0mlen\u001b[0m\u001b[0;34m(\u001b[0m\u001b[0ma\u001b[0m\u001b[0;34m)\u001b[0m\u001b[0;34m\u001b[0m\u001b[0;34m\u001b[0m\u001b[0m\n\u001b[0;32m----> 4\u001b[0;31m     return min(levenshtein(a[-1], b)+ 1,\n\u001b[0m\u001b[1;32m      5\u001b[0m                \u001b[0mlevenshtein\u001b[0m\u001b[0;34m(\u001b[0m\u001b[0ma\u001b[0m\u001b[0;34m,\u001b[0m \u001b[0mb\u001b[0m\u001b[0;34m[\u001b[0m\u001b[0;34m-\u001b[0m\u001b[0;36m1\u001b[0m\u001b[0;34m]\u001b[0m\u001b[0;34m)\u001b[0m\u001b[0;34m+\u001b[0m \u001b[0;36m1\u001b[0m\u001b[0;34m,\u001b[0m\u001b[0;34m\u001b[0m\u001b[0;34m\u001b[0m\u001b[0m\n\u001b[1;32m      6\u001b[0m                levenshtein(a[-1], b[-1]) +2)\n",
            "... last 1 frames repeated, from the frame below ...\n",
            "\u001b[0;32m<ipython-input-113-e3590091185b>\u001b[0m in \u001b[0;36mlevenshtein\u001b[0;34m(a, b)\u001b[0m\n\u001b[1;32m      2\u001b[0m     \u001b[0;32mif\u001b[0m \u001b[0;32mnot\u001b[0m \u001b[0ma\u001b[0m\u001b[0;34m:\u001b[0m \u001b[0;32mreturn\u001b[0m \u001b[0mlen\u001b[0m\u001b[0;34m(\u001b[0m\u001b[0mb\u001b[0m\u001b[0;34m)\u001b[0m\u001b[0;34m\u001b[0m\u001b[0;34m\u001b[0m\u001b[0m\n\u001b[1;32m      3\u001b[0m     \u001b[0;32mif\u001b[0m \u001b[0;32mnot\u001b[0m \u001b[0mb\u001b[0m\u001b[0;34m:\u001b[0m \u001b[0;32mreturn\u001b[0m \u001b[0mlen\u001b[0m\u001b[0;34m(\u001b[0m\u001b[0ma\u001b[0m\u001b[0;34m)\u001b[0m\u001b[0;34m\u001b[0m\u001b[0;34m\u001b[0m\u001b[0m\n\u001b[0;32m----> 4\u001b[0;31m     return min(levenshtein(a[-1], b)+ 1,\n\u001b[0m\u001b[1;32m      5\u001b[0m                \u001b[0mlevenshtein\u001b[0m\u001b[0;34m(\u001b[0m\u001b[0ma\u001b[0m\u001b[0;34m,\u001b[0m \u001b[0mb\u001b[0m\u001b[0;34m[\u001b[0m\u001b[0;34m-\u001b[0m\u001b[0;36m1\u001b[0m\u001b[0;34m]\u001b[0m\u001b[0;34m)\u001b[0m\u001b[0;34m+\u001b[0m \u001b[0;36m1\u001b[0m\u001b[0;34m,\u001b[0m\u001b[0;34m\u001b[0m\u001b[0;34m\u001b[0m\u001b[0m\n\u001b[1;32m      6\u001b[0m                levenshtein(a[-1], b[-1]) +2)\n",
            "\u001b[0;31mRecursionError\u001b[0m: maximum recursion depth exceeded"
          ]
        }
      ]
    },
    {
      "cell_type": "code",
      "metadata": {
        "id": "DuawxMVnCoRi",
        "outputId": "c1d63b8c-2ce1-411c-fb9e-f6af3faf1856",
        "colab": {
          "base_uri": "https://localhost:8080/"
        }
      },
      "source": [
        "def levenshtein(a, b):\n",
        "    if not a: return len(b)\n",
        "    if not b: return len(a)\n",
        "    return min(levenshtein(a[1:], b[1:])+(a[0] != b[0]) + 1,\n",
        "               levenshtein(a[1:], b) + 1,\n",
        "               levenshtein(a, b[1:]) + 2)\n",
        "    \n",
        "    return 1 + \n",
        "  \n",
        "              #  dp[i][j] = 1 + min(dp[i][j-1],        # Insert\n",
        "              #                     dp[i-1][j],        # Remove\n",
        "              #                     dp[i-1][j-1] + 1)    # Replace\n",
        "print(levenshtein(\"INTENTION\",\"EXECUTION\"))"
      ],
      "execution_count": null,
      "outputs": [
        {
          "output_type": "stream",
          "text": [
            "14\n"
          ],
          "name": "stdout"
        }
      ]
    },
    {
      "cell_type": "markdown",
      "metadata": {
        "id": "DvGYpybyvAbm"
      },
      "source": [
        "Task 2: [4 marks]\n",
        "\n",
        "Modify the code below to achieve the following:\n",
        "\n",
        "(a) the editDistance function should measure the Levenshtein distance, i.e. insertion cost = 1, deletion cost = 1, substitution cost = 2\n",
        "\n",
        "(b) use the Python time.time() function to measure the processing time\n",
        "\n",
        "(c) Augment the code so that it outputs a minimum distance table including backtrace pointers in each cell (as shown in the sample output below). you will need to store pointers and add a stage to compute the backtrace.\n",
        "\n"
      ]
    },
    {
      "cell_type": "code",
      "metadata": {
        "id": "xF531ujevIM8",
        "outputId": "cccf6dc0-c65a-414c-c071-5133fcc1c34f",
        "colab": {
          "base_uri": "https://localhost:8080/"
        }
      },
      "source": [
        "# A Dynamic Programming based Python program for edit\n",
        "# distance problem\n",
        "def editDistDP(str1, str2, m, n):\n",
        "   start = time.time()\n",
        "   # Create a table to store results of subproblems\n",
        "   dp = [[0 for x in range(n + 1)] for x in range(m + 1)]\n",
        "    # Fill dp[][] in bottom up manner\n",
        "   for i in range(m + 1):\n",
        "       for j in range(n + 1):\n",
        "            # If first string is empty, only option is to\n",
        "           # insert all characters of second string\n",
        "           if i == 0:\n",
        "               dp[i][j] = j    # Min. operations = j\n",
        "            # If second string is empty, only option is to\n",
        "           # remove all characters of second string\n",
        "           elif j == 0:\n",
        "               dp[i][j] = i    # Min. operations = i\n",
        "            # If last characters are same, ignore last char\n",
        "           # and recur for remaining string\n",
        "           elif str1[i-1] == str2[j-1]:\n",
        "               dp[i][j] = dp[i-1][j-1]\n",
        "            # If last character are different, consider all\n",
        "           # possibilities and find minimum\n",
        "           else:\n",
        "               dp[i][j] = 1 + min(dp[i][j-1],        # Insert\n",
        "                                  dp[i-1][j],        # Remove\n",
        "                                  dp[i-1][j-1] + 1)    # Replace\n",
        "   end = time.time()\n",
        "   return dp[m][n], \"Processing time =  %s\" %(end - start)\n",
        " # Driver program\n",
        "str1 = \"INTENTION\"\n",
        "str2 = \"EXECUTION\"\n",
        "print(editDistDP(str1, str2, len(str1), len(str2)))\n",
        "# This code is contributed by Bhavya Jain"
      ],
      "execution_count": null,
      "outputs": [
        {
          "output_type": "stream",
          "text": [
            "(8, 'Processing time =  8.463859558105469e-05')\n"
          ],
          "name": "stdout"
        }
      ]
    },
    {
      "cell_type": "code",
      "metadata": {
        "id": "_KRmrr2bgGjt",
        "outputId": "7bd674f1-379d-4530-a7db-53b6dd12ebd9",
        "colab": {
          "base_uri": "https://localhost:8080/",
          "height": 316
        }
      },
      "source": [
        "import numpy as np\n",
        "\n",
        "def levenshtein(seq1, seq2):\n",
        "    size_x = len(seq1) + 1\n",
        "    size_y = len(seq2) + 1\n",
        "    matrix = np.zeros ((size_x, size_y))\n",
        "    for x in xrange(size_x):\n",
        "        matrix [x, 0] = x\n",
        "    for y in xrange(size_y):\n",
        "        matrix [0, y] = y\n",
        "\n",
        "    for x in xrange(1, size_x):\n",
        "        for y in xrange(1, size_y):\n",
        "            if seq1[x-1] == seq2[y-1]:\n",
        "                matrix [x,y] = min(\n",
        "                    matrix[x-1, y] + 1,\n",
        "                    matrix[x-1, y-1],\n",
        "                    matrix[x, y-1] + 1\n",
        "                )\n",
        "            else:\n",
        "                matrix [x,y] = min(\n",
        "                    matrix[x-1,y] + 1,\n",
        "                    matrix[x-1,y-1] + 1,\n",
        "                    matrix[x,y-1] + 1\n",
        "                )\n",
        "    print (matrix)\n",
        "    return (matrix[size_x - 1, size_y - 1])\n",
        "\n",
        "levenshtein(\"INTENTION\", \"EXECUTION\")"
      ],
      "execution_count": null,
      "outputs": [
        {
          "output_type": "error",
          "ename": "NameError",
          "evalue": "ignored",
          "traceback": [
            "\u001b[0;31m---------------------------------------------------------------------------\u001b[0m",
            "\u001b[0;31mNameError\u001b[0m                                 Traceback (most recent call last)",
            "\u001b[0;32m<ipython-input-6-296602300f8a>\u001b[0m in \u001b[0;36m<module>\u001b[0;34m()\u001b[0m\n\u001b[1;32m     27\u001b[0m     \u001b[0;32mreturn\u001b[0m \u001b[0;34m(\u001b[0m\u001b[0mmatrix\u001b[0m\u001b[0;34m[\u001b[0m\u001b[0msize_x\u001b[0m \u001b[0;34m-\u001b[0m \u001b[0;36m1\u001b[0m\u001b[0;34m,\u001b[0m \u001b[0msize_y\u001b[0m \u001b[0;34m-\u001b[0m \u001b[0;36m1\u001b[0m\u001b[0;34m]\u001b[0m\u001b[0;34m)\u001b[0m\u001b[0;34m\u001b[0m\u001b[0;34m\u001b[0m\u001b[0m\n\u001b[1;32m     28\u001b[0m \u001b[0;34m\u001b[0m\u001b[0m\n\u001b[0;32m---> 29\u001b[0;31m \u001b[0mlevenshtein\u001b[0m\u001b[0;34m(\u001b[0m\u001b[0;34m\"INTENTION\"\u001b[0m\u001b[0;34m,\u001b[0m \u001b[0;34m\"EXECUTION\"\u001b[0m\u001b[0;34m)\u001b[0m\u001b[0;34m\u001b[0m\u001b[0;34m\u001b[0m\u001b[0m\n\u001b[0m",
            "\u001b[0;32m<ipython-input-6-296602300f8a>\u001b[0m in \u001b[0;36mlevenshtein\u001b[0;34m(seq1, seq2)\u001b[0m\n\u001b[1;32m      5\u001b[0m     \u001b[0msize_y\u001b[0m \u001b[0;34m=\u001b[0m \u001b[0mlen\u001b[0m\u001b[0;34m(\u001b[0m\u001b[0mseq2\u001b[0m\u001b[0;34m)\u001b[0m \u001b[0;34m+\u001b[0m \u001b[0;36m1\u001b[0m\u001b[0;34m\u001b[0m\u001b[0;34m\u001b[0m\u001b[0m\n\u001b[1;32m      6\u001b[0m     \u001b[0mmatrix\u001b[0m \u001b[0;34m=\u001b[0m \u001b[0mnp\u001b[0m\u001b[0;34m.\u001b[0m\u001b[0mzeros\u001b[0m \u001b[0;34m(\u001b[0m\u001b[0;34m(\u001b[0m\u001b[0msize_x\u001b[0m\u001b[0;34m,\u001b[0m \u001b[0msize_y\u001b[0m\u001b[0;34m)\u001b[0m\u001b[0;34m)\u001b[0m\u001b[0;34m\u001b[0m\u001b[0;34m\u001b[0m\u001b[0m\n\u001b[0;32m----> 7\u001b[0;31m     \u001b[0;32mfor\u001b[0m \u001b[0mx\u001b[0m \u001b[0;32min\u001b[0m \u001b[0mxrange\u001b[0m\u001b[0;34m(\u001b[0m\u001b[0msize_x\u001b[0m\u001b[0;34m)\u001b[0m\u001b[0;34m:\u001b[0m\u001b[0;34m\u001b[0m\u001b[0;34m\u001b[0m\u001b[0m\n\u001b[0m\u001b[1;32m      8\u001b[0m         \u001b[0mmatrix\u001b[0m \u001b[0;34m[\u001b[0m\u001b[0mx\u001b[0m\u001b[0;34m,\u001b[0m \u001b[0;36m0\u001b[0m\u001b[0;34m]\u001b[0m \u001b[0;34m=\u001b[0m \u001b[0mx\u001b[0m\u001b[0;34m\u001b[0m\u001b[0;34m\u001b[0m\u001b[0m\n\u001b[1;32m      9\u001b[0m     \u001b[0;32mfor\u001b[0m \u001b[0my\u001b[0m \u001b[0;32min\u001b[0m \u001b[0mxrange\u001b[0m\u001b[0;34m(\u001b[0m\u001b[0msize_y\u001b[0m\u001b[0;34m)\u001b[0m\u001b[0;34m:\u001b[0m\u001b[0;34m\u001b[0m\u001b[0;34m\u001b[0m\u001b[0m\n",
            "\u001b[0;31mNameError\u001b[0m: name 'xrange' is not defined"
          ]
        }
      ]
    },
    {
      "cell_type": "markdown",
      "metadata": {
        "id": "ydSSNGQavId7"
      },
      "source": [
        "Task 3: [4 marks]\n",
        "\n",
        "(a) Install the First and Last Names Dataset (https://github.com/philipperemy/name-dataset).  (!pip install names-dataset)\n",
        "\n",
        "(b) Install the jellyfish library for doing approximate and phonetic matching of strings (https://github.com/jamesturk/jellyfish)  (!pip install jellyfish)\n",
        "\n",
        "(c) Write a function that takes your firstName and lastName as input and checks if they exist in the dataset. ⬤\n",
        "\n",
        "(d) Write a function that takes your firstName and lastName as input and prints out their  Soundex codes (use the Soundex function in the jellyfish library). ⬤\n",
        "\n",
        "(e) Write a function that takes your firstName as input and prints out a list of first names in the dataset whose Soundex codes are the same as your firstName’s Soundex code. ⬤\n",
        "\n",
        "(f) Write a function that takes your firstName and lastName as input and returns their Levenshtein Distance (use the Levenshtein Distance function in the jellyfish library). [1 mark] ⬤\n"
      ]
    },
    {
      "cell_type": "code",
      "metadata": {
        "id": "k6rhaaS7wLuD",
        "outputId": "b86ef9d7-1678-4870-e4e2-fbb46e3b45e3",
        "colab": {
          "base_uri": "https://localhost:8080/"
        }
      },
      "source": [
        "!pip install names-dataset\n",
        "!pip install jellyfish\n",
        "\n",
        "import re\n",
        "from names_dataset import NameDataset\n",
        "import jellyfish as jf\n",
        "m = NameDataset()\n",
        "\n",
        "def nameExist(firstName, lastName):\n",
        "  return m.search_first_name(firstName), m.search_last_name(lastName)\n",
        "#Test\n",
        "print(nameExist(\"Donald\", \"Trump\"))\n",
        "print(nameExist(\"Joe\", \"Biden\"))\n",
        "\n",
        "def nameSoundex(firstName, lastName):\n",
        "  return jf.soundex(firstName), jf.soundex(lastName)\n",
        "\n",
        "#Test\n",
        "print(nameSoundex('Donald', 'Trump'))\n",
        "print(nameSoundex('Joe', 'Biden'))\n",
        "\n",
        "def matchSoundex(firstName):\n",
        "  c = jf.soundex(firstName)  \n",
        "  for i in m.first_names:\n",
        "    x = re.match(\"[ -~]\", i)\n",
        "    if x:\n",
        "      if c == jf.soundex(i):\n",
        "        print(i)\n",
        "# Test\n",
        "print(matchSoundex('Donald'))\n",
        "print(matchSoundex('Joe'))\n",
        "\n",
        "\n",
        "def nameDistance(firstName , lastName ):\n",
        "  return jf.levenshtein_distance(firstName, lastName)\n",
        "#Test\n",
        "print(nameDistance('Donald', 'Trump'))\n",
        "print(nameDistance('Joe', 'Biden'))\n",
        "\n",
        "\n"
      ],
      "execution_count": 32,
      "outputs": [
        {
          "output_type": "stream",
          "text": [
            "Requirement already satisfied: names-dataset in /usr/local/lib/python3.6/dist-packages (1.9.1)\n",
            "Requirement already satisfied: jellyfish in /usr/local/lib/python3.6/dist-packages (0.8.2)\n",
            "(True, True)\n",
            "(True, False)\n",
            "('D543', 'T651')\n",
            "('J000', 'B350')\n",
            "donalda\n",
            "danald\n",
            "denelda\n",
            "donalt\n",
            "ddnald\n",
            "donaldo\n",
            "donaldine\n",
            "donaldeen\n",
            "donnald\n",
            "danield\n",
            "donold\n",
            "donaldson\n",
            "dómhildur\n",
            "dimilta\n",
            "donald\n",
            "donld\n",
            "donaldina\n",
            "donald-john\n",
            "daniel-edoard\n",
            "donelda\n",
            "donald-james\n",
            "doanld\n",
            "doneld\n",
            "demilade\n",
            "donlad\n",
            "None\n",
            "jue\n",
            "jehiah\n",
            "jiayue\n",
            "joe\n",
            "jayia\n",
            "jkiyah\n",
            "joy\n",
            "jiao\n",
            "jhy\n",
            "jayiah\n",
            "jea\n",
            "jiyu\n",
            "jahiyah\n",
            "johao\n",
            "joyah\n",
            "jkai\n",
            "joh\n",
            "jhai\n",
            "juhee\n",
            "jziah\n",
            "jio\n",
            "jua\n",
            "jay\n",
            "jah\n",
            "joiya\n",
            "jyie\n",
            "jsiah\n",
            "ju\n",
            "jey\n",
            "jaihao\n",
            "joyee\n",
            "jai\n",
            "jae\n",
            "joey\n",
            "jaye\n",
            "jewa\n",
            "johiah\n",
            "jiayou\n",
            "johua\n",
            "juha\n",
            "jhiya\n",
            "joia\n",
            "jya\n",
            "jahya\n",
            "jiaya\n",
            "joa\n",
            "joye\n",
            "jayah\n",
            "jkia\n",
            "jie\n",
            "jiawei\n",
            "jahey\n",
            "jeya\n",
            "jihae\n",
            "joao\n",
            "joé\n",
            "jihoo\n",
            "joi\n",
            "joah\n",
            "jiho\n",
            "jhuhi\n",
            "joya\n",
            "jeu\n",
            "jaewoo\n",
            "joyaa\n",
            "jahiya\n",
            "jeeo\n",
            "jahia\n",
            "jo\n",
            "joohi\n",
            "joo\n",
            "jiah\n",
            "jaya\n",
            "jayy\n",
            "jiya\n",
            "jyah\n",
            "juhi\n",
            "jyia\n",
            "jiahao\n",
            "jy\n",
            "jay-\n",
            "jahai\n",
            "jiayi\n",
            "joyia\n",
            "jaea\n",
            "jeeya\n",
            "jye\n",
            "joão\n",
            "johah\n",
            "jehu\n",
            "jaiah\n",
            "jw\n",
            "jaia\n",
            "jhue\n",
            "jc\n",
            "jaie\n",
            "jee\n",
            "jyiah\n",
            "jahi\n",
            "jaeya\n",
            "joie\n",
            "joua\n",
            "jaiya\n",
            "joei\n",
            "jhia\n",
            "juho\n",
            "jew\n",
            "jsai\n",
            "jaiyah\n",
            "jiu\n",
            "jui\n",
            "jaiyi\n",
            "joahua\n",
            "jia\n",
            "joee\n",
            "jiwoo\n",
            "jiyah\n",
            "ji\n",
            "None\n",
            "6\n",
            "4\n"
          ],
          "name": "stdout"
        }
      ]
    }
  ]
}