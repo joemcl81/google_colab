{
  "nbformat": 4,
  "nbformat_minor": 0,
  "metadata": {
    "colab": {
      "name": "E-tivity2_20224885.ipynb",
      "provenance": [],
      "authorship_tag": "ABX9TyP9xf3GzbU4aiozfq/8sDGY",
      "include_colab_link": true
    },
    "kernelspec": {
      "name": "python3",
      "display_name": "Python 3"
    }
  },
  "cells": [
    {
      "cell_type": "markdown",
      "metadata": {
        "id": "view-in-github",
        "colab_type": "text"
      },
      "source": [
        "<a href=\"https://colab.research.google.com/github/joemcl81/google_colab/blob/main/Etivity2_20224885.ipynb\" target=\"_parent\"><img src=\"https://colab.research.google.com/assets/colab-badge.svg\" alt=\"Open In Colab\"/></a>"
      ]
    },
    {
      "cell_type": "markdown",
      "metadata": {
        "id": "8dHXZItiuceo"
      },
      "source": [
        "Joseph Mc Laughlin, 20224885\n",
        "\n",
        "E-tivity2"
      ]
    },
    {
      "cell_type": "markdown",
      "metadata": {
        "id": "Uz3Lb2HbumP0"
      },
      "source": [
        "Task 1: [2 marks]\n",
        "\n",
        "Modify the code below to achieve the following:\n",
        "\n",
        "(a) the editDistance function should measure the Levenshtein distance,  i. e. insertion cost = 1, deletion cost = 1, substitution cost = 2\n",
        "\n",
        "(b) use the Python time.time() function to measure the processing time\n"
      ]
    },
    {
      "cell_type": "code",
      "metadata": {
        "id": "xyaizOFiubr5",
        "outputId": "1001bbd4-e95c-401e-8488-ddd19b18f176",
        "colab": {
          "base_uri": "https://localhost:8080/"
        }
      },
      "source": [
        "import time\n",
        "def edDistRecursive(x, y):\n",
        "  start = time.time()\n",
        "  #print(\"Time elapsed on working...\")\n",
        "  if len(x) == 0: return len(y)\n",
        "  if len(y) == 0: return len(x)\n",
        "  delt = 1 if x[-1] != y[-1] else 0\n",
        "  diag = edDistRecursive(x[:-1], y[:-1]) + delt\n",
        "  vert = edDistRecursive(x[:-1], y) + 1\n",
        "  horz = edDistRecursive(x, y[:-1]) + 1\n",
        "  end = time.time()\n",
        "  return min(diag, vert, horz)\n",
        "\n",
        "print(edDistRecursive(\"INTENTION\",\"EXECUTION\"))"
      ],
      "execution_count": 2,
      "outputs": [
        {
          "output_type": "stream",
          "text": [
            "5\n"
          ],
          "name": "stdout"
        }
      ]
    },
    {
      "cell_type": "code",
      "metadata": {
        "id": "DuawxMVnCoRi",
        "outputId": "53fdbb4e-7e66-4bb3-c788-738e079d341a",
        "colab": {
          "base_uri": "https://localhost:8080/"
        }
      },
      "source": [
        "def levenshtein(x, y):\n",
        "    start = time.time()\n",
        "    if len(x) == 0: return len(y)\n",
        "    if len(y) == 0: return len(x)\n",
        "    if x[-1] == y[-1]:\n",
        "        cost = 0\n",
        "    else:\n",
        "        cost = 2\n",
        "    res = min([levenshtein(x[:-1], y)+1,\n",
        "               levenshtein(x, y[:-1])+1, \n",
        "               levenshtein(x[:-1], y[:-1]) + cost])\n",
        "    end = time.time()\n",
        "    return res\n",
        "\n",
        "\n",
        "print(levenshtein(\"INTENTION\", \"EXECUTION\"))"
      ],
      "execution_count": 13,
      "outputs": [
        {
          "output_type": "stream",
          "text": [
            "8\n"
          ],
          "name": "stdout"
        }
      ]
    },
    {
      "cell_type": "markdown",
      "metadata": {
        "id": "DvGYpybyvAbm"
      },
      "source": [
        "Task 2: [4 marks]\n",
        "\n",
        "Modify the code below to achieve the following:\n",
        "\n",
        "(a) the editDistance function should measure the Levenshtein distance, i.e. insertion cost = 1, deletion cost = 1, substitution cost = 2\n",
        "\n",
        "(b) use the Python time.time() function to measure the processing time\n",
        "\n",
        "(c) Augment the code so that it outputs a minimum distance table including backtrace pointers in each cell (as shown in the sample output below). you will need to store pointers and add a stage to compute the backtrace.\n",
        "\n"
      ]
    },
    {
      "cell_type": "code",
      "metadata": {
        "id": "xF531ujevIM8",
        "outputId": "9c3ddacc-5e3c-48bf-9491-aec7b2c60f67",
        "colab": {
          "base_uri": "https://localhost:8080/"
        }
      },
      "source": [
        "# A Dynamic Programming based Python program for edit\n",
        "# distance problem\n",
        "def editDistDP(str1, str2, m, n):\n",
        "   start = time.time()\n",
        "   # Create a table to store results of subproblems\n",
        "   dp = [[0 for x in range(n + 1)] for x in range(m + 1)]\n",
        "    # Fill dp[][] in bottom up manner\n",
        "   for i in range(m + 1):\n",
        "       for j in range(n + 1):\n",
        "            # If first string is empty, only option is to\n",
        "           # insert all characters of second string\n",
        "           if i == 0:\n",
        "               dp[i][j] = j    # Min. operations = j\n",
        "            # If second string is empty, only option is to\n",
        "           # remove all characters of second string\n",
        "           elif j == 0:\n",
        "               dp[i][j] = i    # Min. operations = i\n",
        "            # If last characters are same, ignore last char\n",
        "           # and recur for remaining string\n",
        "           elif str1[i-1] == str2[j-1]:\n",
        "               dp[i][j] = dp[i-1][j-1]\n",
        "            # If last character are different, consider all\n",
        "           # possibilities and find minimum\n",
        "           else:\n",
        "               dp[i][j] = 1 + min(dp[i][j-1],        # Insert\n",
        "                                  dp[i-1][j],        # Remove\n",
        "                                  dp[i-1][j-1] + 1)    # Replace\n",
        "   end = time.time()\n",
        "   return dp[m][n], \"Processing time =  %s\" %(end - start)\n",
        " # Driver program\n",
        "str1 = \"INTENTION\"\n",
        "str2 = \"EXECUTION\"\n",
        "print(editDistDP(str1, str2, len(str1), len(str2)))\n",
        "# This code is contributed by Bhavya Jain"
      ],
      "execution_count": 14,
      "outputs": [
        {
          "output_type": "stream",
          "text": [
            "(8, 'Processing time =  5.6743621826171875e-05')\n"
          ],
          "name": "stdout"
        }
      ]
    },
    {
      "cell_type": "code",
      "metadata": {
        "id": "pI45lB-GgwDq",
        "outputId": "9f6c1757-c861-4c0b-f77b-24dd18ac7f36",
        "colab": {
          "base_uri": "https://localhost:8080/"
        }
      },
      "source": [
        "\n",
        "def editDistDP(str1, str2):\n",
        "    start = time.time()\n",
        "    rows = len(str1)+1\n",
        "    cols = len(str2)+1\n",
        "    dist = [[0 for x in range(cols)] for x in range(rows)]\n",
        "\n",
        "    # source prefixes can be transformed into empty strings \n",
        "    # by deletions:\n",
        "    for i in range(1, rows):\n",
        "        dist[i][0] = i\n",
        "\n",
        "    # target prefixes can be created from an empty source string\n",
        "    # by inserting the characters\n",
        "    for i in range(1, cols):\n",
        "        dist[0][i] = i\n",
        "        \n",
        "    for col in range(1, cols):\n",
        "        for row in range(1, rows):\n",
        "            if str1[row-1] == str2[col-1]:\n",
        "                cost = 0\n",
        "            else:\n",
        "                cost = 2\n",
        "            dist[row][col] = min(dist[row-1][col] + 1,      # deletion\n",
        "                                 dist[row][col-1] + 1,      # insertion\n",
        "                                 dist[row-1][col-1] + cost) # substitution\n",
        "\n",
        "    for r in range(rows):\n",
        "        print(dist[r])\n",
        "    \n",
        "    end = time.time()\n",
        "    return \"Levenshtein distance = %s \" % dist[row][col], \"Processing time =  %s\" %(end - start)\n",
        "\n",
        "print(editDistDP(\"INTENTION\", \"EXECUTION\"))"
      ],
      "execution_count": 16,
      "outputs": [
        {
          "output_type": "stream",
          "text": [
            "[0, 1, 2, 3, 4, 5, 6, 7, 8, 9]\n",
            "[1, 2, 3, 4, 5, 6, 7, 6, 7, 8]\n",
            "[2, 3, 4, 5, 6, 7, 8, 7, 8, 7]\n",
            "[3, 4, 5, 6, 7, 8, 7, 8, 9, 8]\n",
            "[4, 3, 4, 5, 6, 7, 8, 9, 10, 9]\n",
            "[5, 4, 5, 6, 7, 8, 9, 10, 11, 10]\n",
            "[6, 5, 6, 7, 8, 9, 8, 9, 10, 11]\n",
            "[7, 6, 7, 8, 9, 10, 9, 8, 9, 10]\n",
            "[8, 7, 8, 9, 10, 11, 10, 9, 8, 9]\n",
            "[9, 8, 9, 10, 11, 12, 11, 10, 9, 8]\n",
            "('Levenshtein distance = 8 ', 'Processing time =  0.00032329559326171875')\n"
          ],
          "name": "stdout"
        }
      ]
    },
    {
      "cell_type": "code",
      "metadata": {
        "id": "3_wqE-16jQ6P",
        "outputId": "043cf31a-3c26-486b-b576-2724bda25ee9",
        "colab": {
          "base_uri": "https://localhost:8080/"
        }
      },
      "source": [
        "def iterative_levenshtein(s, t, costs=(1, 1, 2)):\n",
        "    start = time.time()\n",
        "    rows = len(s)+1\n",
        "    cols = len(t)+1\n",
        "    deletes, inserts, substitutes = costs\n",
        "    \n",
        "    dist = [[0 for x in range(cols)] for x in range(rows)]\n",
        "\n",
        "    # source prefixes can be transformed into empty strings \n",
        "    # by deletions:\n",
        "    for row in range(1, rows):\n",
        "        dist[row][0] = row * deletes\n",
        "\n",
        "    # target prefixes can be created from an empty source string\n",
        "    # by inserting the characters\n",
        "    for col in range(1, cols):\n",
        "        dist[0][col] = col * inserts\n",
        "        \n",
        "    for col in range(1, cols):\n",
        "        for row in range(1, rows):\n",
        "            if s[row-1] == t[col-1]:\n",
        "                cost = 0\n",
        "            else:\n",
        "                cost = substitutes\n",
        "            dist[row][col] = min(dist[row-1][col] + deletes,\n",
        "                                 dist[row][col-1] + inserts,\n",
        "                                 dist[row-1][col-1] + cost) # substitution\n",
        "\n",
        "    for r in range(rows):\n",
        "        print(dist[r])\n",
        "    \n",
        " \n",
        "    end = time.time()\n",
        "    return \"Levenshtein distance = %s \" % dist[row][col], \"Processing time =  %s\" %(end - start)\n",
        "\n",
        "# default:\n",
        "print(iterative_levenshtein(\"INTENTION\", \"EXECUTION\"))\n",
        "# inserts and deletes are twice as high as substitutes\n",
        "print(iterative_levenshtein(\"INTENTION\", \"EXECUTION\", costs=(2, 2, 1)))"
      ],
      "execution_count": 17,
      "outputs": [
        {
          "output_type": "stream",
          "text": [
            "[0, 1, 2, 3, 4, 5, 6, 7, 8, 9]\n",
            "[1, 2, 3, 4, 5, 6, 7, 6, 7, 8]\n",
            "[2, 3, 4, 5, 6, 7, 8, 7, 8, 7]\n",
            "[3, 4, 5, 6, 7, 8, 7, 8, 9, 8]\n",
            "[4, 3, 4, 5, 6, 7, 8, 9, 10, 9]\n",
            "[5, 4, 5, 6, 7, 8, 9, 10, 11, 10]\n",
            "[6, 5, 6, 7, 8, 9, 8, 9, 10, 11]\n",
            "[7, 6, 7, 8, 9, 10, 9, 8, 9, 10]\n",
            "[8, 7, 8, 9, 10, 11, 10, 9, 8, 9]\n",
            "[9, 8, 9, 10, 11, 12, 11, 10, 9, 8]\n",
            "('Levenshtein distance = 8 ', 'Processing time =  0.00036334991455078125')\n",
            "[0, 2, 4, 6, 8, 10, 12, 14, 16, 18]\n",
            "[2, 1, 3, 5, 7, 9, 11, 12, 14, 16]\n",
            "[4, 3, 2, 4, 6, 8, 10, 12, 13, 14]\n",
            "[6, 5, 4, 3, 5, 7, 8, 10, 12, 14]\n",
            "[8, 6, 6, 4, 4, 6, 8, 9, 11, 13]\n",
            "[10, 8, 7, 6, 5, 5, 7, 9, 10, 11]\n",
            "[12, 10, 9, 8, 7, 6, 5, 7, 9, 11]\n",
            "[14, 12, 11, 10, 9, 8, 7, 5, 7, 9]\n",
            "[16, 14, 13, 12, 11, 10, 9, 7, 5, 7]\n",
            "[18, 16, 15, 14, 13, 12, 11, 9, 7, 5]\n",
            "('Levenshtein distance = 5 ', 'Processing time =  0.00027942657470703125')\n"
          ],
          "name": "stdout"
        }
      ]
    },
    {
      "cell_type": "markdown",
      "metadata": {
        "id": "ydSSNGQavId7"
      },
      "source": [
        "Task 3: [4 marks]\n",
        "\n",
        "(a) Install the First and Last Names Dataset (https://github.com/philipperemy/name-dataset).  (!pip install names-dataset)\n",
        "\n",
        "(b) Install the jellyfish library for doing approximate and phonetic matching of strings (https://github.com/jamesturk/jellyfish)  (!pip install jellyfish)\n",
        "\n",
        "(c) Write a function that takes your firstName and lastName as input and checks if they exist in the dataset. ⬤\n",
        "\n",
        "(d) Write a function that takes your firstName and lastName as input and prints out their  Soundex codes (use the Soundex function in the jellyfish library). ⬤\n",
        "\n",
        "(e) Write a function that takes your firstName as input and prints out a list of first names in the dataset whose Soundex codes are the same as your firstName’s Soundex code. ⬤\n",
        "\n",
        "(f) Write a function that takes your firstName and lastName as input and returns their Levenshtein Distance (use the Levenshtein Distance function in the jellyfish library). [1 mark] ⬤\n"
      ]
    },
    {
      "cell_type": "code",
      "metadata": {
        "id": "k6rhaaS7wLuD",
        "outputId": "d417d635-9a0b-4bbb-f0e8-26909b9108dc",
        "colab": {
          "base_uri": "https://localhost:8080/"
        }
      },
      "source": [
        "!pip install names-dataset\n",
        "!pip install jellyfish\n",
        "\n",
        "import re\n",
        "from names_dataset import NameDataset\n",
        "import jellyfish as jf\n",
        "m = NameDataset()\n",
        "\n",
        "def nameExist(firstName, lastName):\n",
        "  return m.search_first_name(firstName), m.search_last_name(lastName)\n",
        "#Test\n",
        "print(nameExist(\"Donald\", \"Trump\"))\n",
        "print(nameExist(\"Joe\", \"Biden\"))\n",
        "\n",
        "def nameSoundex(firstName, lastName):\n",
        "  return jf.soundex(firstName), jf.soundex(lastName)\n",
        "\n",
        "#Test\n",
        "print(nameSoundex('Donald', 'Trump'))\n",
        "print(nameSoundex('Joe', 'Biden'))\n",
        "\n",
        "def matchSoundex(firstName):\n",
        "  c = jf.soundex(firstName)  \n",
        "  for i in m.first_names:\n",
        "    x = re.match(\"[ -~]\", i)\n",
        "    if x:\n",
        "      if c == jf.soundex(i):\n",
        "        print(i)\n",
        "        \n",
        "# Test\n",
        "print(matchSoundex('Donald'))\n",
        "print(matchSoundex('Joe'))\n",
        "\n",
        "\n",
        "def nameDistance(firstName , lastName ):\n",
        "  return jf.levenshtein_distance(firstName, lastName)\n",
        "#Test\n",
        "print(nameDistance('Donald', 'Trump'))\n",
        "print(nameDistance('Joe', 'Biden'))\n",
        "\n",
        "\n"
      ],
      "execution_count": 18,
      "outputs": [
        {
          "output_type": "stream",
          "text": [
            "Collecting names-dataset\n",
            "\u001b[?25l  Downloading https://files.pythonhosted.org/packages/98/98/a4f5ac031a8092b0de61097aad407ce78df2574df6dc03143a76574be726/names_dataset-1.9.1-py3-none-any.whl (1.4MB)\n",
            "\u001b[K     |████████████████████████████████| 1.4MB 2.8MB/s \n",
            "\u001b[?25hInstalling collected packages: names-dataset\n",
            "Successfully installed names-dataset-1.9.1\n",
            "Collecting jellyfish\n",
            "\u001b[?25l  Downloading https://files.pythonhosted.org/packages/6c/09/927ae35fc5a9f70abb6cc2c27ee88fc48549f7bc4786c1d4b177c22e997d/jellyfish-0.8.2-cp36-cp36m-manylinux2014_x86_64.whl (93kB)\n",
            "\u001b[K     |████████████████████████████████| 102kB 2.5MB/s \n",
            "\u001b[?25hInstalling collected packages: jellyfish\n",
            "Successfully installed jellyfish-0.8.2\n",
            "(True, True)\n",
            "(True, False)\n",
            "('D543', 'T651')\n",
            "('J000', 'B350')\n",
            "donaldine\n",
            "donalt\n",
            "dómhildur\n",
            "danald\n",
            "demilade\n",
            "donald-john\n",
            "denelda\n",
            "donaldina\n",
            "doneld\n",
            "donnald\n",
            "donalda\n",
            "donaldson\n",
            "danield\n",
            "daniel-edoard\n",
            "donld\n",
            "donald\n",
            "donald-james\n",
            "donaldeen\n",
            "donaldo\n",
            "dimilta\n",
            "donelda\n",
            "ddnald\n",
            "doanld\n",
            "donlad\n",
            "donold\n",
            "None\n",
            "jehu\n",
            "jae\n",
            "jahiyah\n",
            "joe\n",
            "joye\n",
            "jkiyah\n",
            "juha\n",
            "joa\n",
            "joh\n",
            "jayiah\n",
            "jyia\n",
            "jahiya\n",
            "jiawei\n",
            "jhue\n",
            "jiayou\n",
            "jhia\n",
            "jay-\n",
            "joo\n",
            "jio\n",
            "jaye\n",
            "joao\n",
            "jiah\n",
            "jihoo\n",
            "jeya\n",
            "joé\n",
            "jayy\n",
            "jsiah\n",
            "jie\n",
            "jua\n",
            "johiah\n",
            "ji\n",
            "jeeya\n",
            "joei\n",
            "jia\n",
            "jo\n",
            "joyaa\n",
            "juhi\n",
            "jayah\n",
            "jeeo\n",
            "jaya\n",
            "johao\n",
            "joya\n",
            "jehiah\n",
            "jaeya\n",
            "jkia\n",
            "jea\n",
            "jhiya\n",
            "johah\n",
            "joia\n",
            "jiya\n",
            "joiya\n",
            "jaie\n",
            "juhee\n",
            "jya\n",
            "juho\n",
            "jiayi\n",
            "joyia\n",
            "joyah\n",
            "joahua\n",
            "jsai\n",
            "joua\n",
            "jiao\n",
            "jahi\n",
            "jue\n",
            "joee\n",
            "jaiya\n",
            "jaiyah\n",
            "jahey\n",
            "joi\n",
            "jew\n",
            "jui\n",
            "jihae\n",
            "jaiah\n",
            "jiyah\n",
            "jyiah\n",
            "jhy\n",
            "jay\n",
            "ju\n",
            "jiaya\n",
            "johua\n",
            "jiwoo\n",
            "jiho\n",
            "jaihao\n",
            "jhuhi\n",
            "jiyu\n",
            "jkai\n",
            "jaiyi\n",
            "jahia\n",
            "joey\n",
            "jai\n",
            "joah\n",
            "jhai\n",
            "jey\n",
            "joie\n",
            "jziah\n",
            "jaea\n",
            "joy\n",
            "jewa\n",
            "joyee\n",
            "jaewoo\n",
            "jyah\n",
            "jiayue\n",
            "joão\n",
            "jahya\n",
            "jiahao\n",
            "jahai\n",
            "jy\n",
            "jaia\n",
            "jah\n",
            "jeu\n",
            "jc\n",
            "jw\n",
            "jee\n",
            "jiu\n",
            "joohi\n",
            "jayia\n",
            "jyie\n",
            "jye\n",
            "None\n",
            "6\n",
            "4\n"
          ],
          "name": "stdout"
        }
      ]
    }
  ]
}