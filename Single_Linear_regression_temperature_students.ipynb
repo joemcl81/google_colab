{
  "nbformat": 4,
  "nbformat_minor": 0,
  "metadata": {
    "kernelspec": {
      "display_name": "Python 3",
      "language": "python",
      "name": "python3"
    },
    "language_info": {
      "codemirror_mode": {
        "name": "ipython",
        "version": 3
      },
      "file_extension": ".py",
      "mimetype": "text/x-python",
      "name": "python",
      "nbconvert_exporter": "python",
      "pygments_lexer": "ipython3",
      "version": "3.6.9"
    },
    "toc": {
      "base_numbering": 1,
      "nav_menu": {},
      "number_sections": true,
      "sideBar": true,
      "skip_h1_title": false,
      "title_cell": "Table of Contents",
      "title_sidebar": "Contents",
      "toc_cell": false,
      "toc_position": {},
      "toc_section_display": true,
      "toc_window_display": false
    },
    "colab": {
      "name": "Single_Linear_regression_temperature_students (1).ipynb",
      "provenance": [],
      "collapsed_sections": [],
      "toc_visible": true,
      "include_colab_link": true
    }
  },
  "cells": [
    {
      "cell_type": "markdown",
      "metadata": {
        "id": "view-in-github",
        "colab_type": "text"
      },
      "source": [
        "<a href=\"https://colab.research.google.com/github/joemcl81/google_colab/blob/main/Single_Linear_regression_temperature_students.ipynb\" target=\"_parent\"><img src=\"https://colab.research.google.com/assets/colab-badge.svg\" alt=\"Open In Colab\"/></a>"
      ]
    },
    {
      "cell_type": "code",
      "metadata": {
        "id": "hlT4RRzS5LWe"
      },
      "source": [
        "import pandas as pd  \n",
        "import numpy as np  \n",
        "import matplotlib.pyplot as plt  \n",
        "from sklearn.model_selection import train_test_split \n",
        "from sklearn.linear_model import LinearRegression\n",
        "from sklearn import metrics\n",
        "%matplotlib inline"
      ],
      "execution_count": null,
      "outputs": []
    },
    {
      "cell_type": "markdown",
      "metadata": {
        "id": "HB3p7tzM5LWj"
      },
      "source": [
        "### Weather dataset\n",
        "\n",
        "The dataset `weather_lab.csv` includes daily (min and max) temperature measured by a weather station\n",
        "(366 data pairs).\n",
        "\n",
        "We want to predict the MaxTemp based on the value of the MinTemp recorded. \n",
        "\n",
        "Since the output variable is continuous, this is a **regression problem**.\n",
        "\n",
        "Your task is:\n",
        "1. loading the dataset `weather_lab.csv` using pandas\n",
        "2. counting the number of rows and the number of columns\n",
        "3. splitting the dataset in inputs (denoted as X, that includes the column MinTemp) and output (denoted as y,  column MaxTemp) and transform it into a numpy array using `.values.`\n",
        "4. plot the scatterplot of the data, this is the command\n",
        "\n",
        "`plt.scatter(X,y)\n",
        "plt.xlabel('MinTemp',fontsize=14)\n",
        "plt.ylabel('MaxTemp',fontsize=14) `\n",
        "5. Reshape X so it is a column vector `X=X.reshape(-1,1)`\n",
        "6. randomly splitting the rows in (X,y) in training (60% of the rows) and testing (40% of the rows), you can use the function `train_test_split` from `sklearn`\n",
        "7. training a `LinearRegression` model on the training dataset and predict the output variable for the testing dataset\n",
        "\n",
        "`linreg = LinearRegression(fit_intercept=True)  \n",
        "linreg.fit(x_train, y_train) #training the algorithm\n",
        "y_pred_tr = linreg.predict(x_train)\n",
        "y_pred_te = linreg.predict(x_test)`\n",
        "8. computing the mean squared error (MSE) of the prediction error for the train and test set\n",
        "\n",
        "`np.mean((y_pred_tr-y_train)**2)\n",
        "np.mean((y_pred_te-y_test)**2)`\n",
        "\n",
        "and root mean squared error (RMSE)\n",
        "\n",
        "\n",
        "`np.sqrt(np.mean((y_pred_tr-y_train)**2))\n",
        "np.sqrt(np.mean((y_pred_te-y_test)**2))`\n",
        "\n",
        "RMSE gives the error in the same scale of `y`, \n",
        "e.g. RMSE=4 means that on average the error\n",
        "in the predicted temperature is around $\\pm 4$ degree.\n",
        "9. You can plot the regression line as follows\n",
        "\n",
        "`alpha = linreg.intercept_\n",
        "beta = linreg.coef_[0]\n",
        "plt.plot(X,alpha+beta*X,color='r')\n",
        "plt.scatter(X,y)`\n",
        "\n",
        "\n",
        "**Questions:**\n",
        "10. Predict MaxTemp corresponding to the MinTemp=35, How do you that?\n",
        "11. plot the predicted point together with the scatterplot of the data"
      ]
    },
    {
      "cell_type": "code",
      "metadata": {
        "id": "pTMuG3Xt5LWk",
        "outputId": "70d5e368-d6b0-44b4-8180-c882898077d5",
        "colab": {
          "base_uri": "https://localhost:8080/",
          "height": 415
        }
      },
      "source": [
        "#loading the dataset weather_lab.csv using pandas\n",
        "import pandas as pd\n",
        "\n",
        "df = pd.read_csv (r'/content/weather_lab (1).csv')\n",
        "df\n"
      ],
      "execution_count": 14,
      "outputs": [
        {
          "output_type": "execute_result",
          "data": {
            "text/html": [
              "<div>\n",
              "<style scoped>\n",
              "    .dataframe tbody tr th:only-of-type {\n",
              "        vertical-align: middle;\n",
              "    }\n",
              "\n",
              "    .dataframe tbody tr th {\n",
              "        vertical-align: top;\n",
              "    }\n",
              "\n",
              "    .dataframe thead th {\n",
              "        text-align: right;\n",
              "    }\n",
              "</style>\n",
              "<table border=\"1\" class=\"dataframe\">\n",
              "  <thead>\n",
              "    <tr style=\"text-align: right;\">\n",
              "      <th></th>\n",
              "      <th>Unnamed: 0</th>\n",
              "      <th>MinTemp</th>\n",
              "      <th>MaxTemp</th>\n",
              "    </tr>\n",
              "  </thead>\n",
              "  <tbody>\n",
              "    <tr>\n",
              "      <th>0</th>\n",
              "      <td>0</td>\n",
              "      <td>8.0</td>\n",
              "      <td>24.3</td>\n",
              "    </tr>\n",
              "    <tr>\n",
              "      <th>1</th>\n",
              "      <td>1</td>\n",
              "      <td>14.0</td>\n",
              "      <td>26.9</td>\n",
              "    </tr>\n",
              "    <tr>\n",
              "      <th>2</th>\n",
              "      <td>2</td>\n",
              "      <td>13.7</td>\n",
              "      <td>23.4</td>\n",
              "    </tr>\n",
              "    <tr>\n",
              "      <th>3</th>\n",
              "      <td>3</td>\n",
              "      <td>13.3</td>\n",
              "      <td>15.5</td>\n",
              "    </tr>\n",
              "    <tr>\n",
              "      <th>4</th>\n",
              "      <td>4</td>\n",
              "      <td>7.6</td>\n",
              "      <td>16.1</td>\n",
              "    </tr>\n",
              "    <tr>\n",
              "      <th>...</th>\n",
              "      <td>...</td>\n",
              "      <td>...</td>\n",
              "      <td>...</td>\n",
              "    </tr>\n",
              "    <tr>\n",
              "      <th>361</th>\n",
              "      <td>361</td>\n",
              "      <td>9.0</td>\n",
              "      <td>30.7</td>\n",
              "    </tr>\n",
              "    <tr>\n",
              "      <th>362</th>\n",
              "      <td>362</td>\n",
              "      <td>7.1</td>\n",
              "      <td>28.4</td>\n",
              "    </tr>\n",
              "    <tr>\n",
              "      <th>363</th>\n",
              "      <td>363</td>\n",
              "      <td>12.5</td>\n",
              "      <td>19.9</td>\n",
              "    </tr>\n",
              "    <tr>\n",
              "      <th>364</th>\n",
              "      <td>364</td>\n",
              "      <td>12.5</td>\n",
              "      <td>26.9</td>\n",
              "    </tr>\n",
              "    <tr>\n",
              "      <th>365</th>\n",
              "      <td>365</td>\n",
              "      <td>12.3</td>\n",
              "      <td>30.2</td>\n",
              "    </tr>\n",
              "  </tbody>\n",
              "</table>\n",
              "<p>366 rows × 3 columns</p>\n",
              "</div>"
            ],
            "text/plain": [
              "     Unnamed: 0  MinTemp  MaxTemp\n",
              "0             0      8.0     24.3\n",
              "1             1     14.0     26.9\n",
              "2             2     13.7     23.4\n",
              "3             3     13.3     15.5\n",
              "4             4      7.6     16.1\n",
              "..          ...      ...      ...\n",
              "361         361      9.0     30.7\n",
              "362         362      7.1     28.4\n",
              "363         363     12.5     19.9\n",
              "364         364     12.5     26.9\n",
              "365         365     12.3     30.2\n",
              "\n",
              "[366 rows x 3 columns]"
            ]
          },
          "metadata": {
            "tags": []
          },
          "execution_count": 14
        }
      ]
    },
    {
      "cell_type": "code",
      "metadata": {
        "id": "Tb4tUh3VNnwv",
        "outputId": "bdaa1e3f-fb23-4e64-b1a8-29001fc54982",
        "colab": {
          "base_uri": "https://localhost:8080/"
        }
      },
      "source": [
        "# fetching the number of rows and columns \n",
        "rows = df.shape[0] \n",
        "cols = df.shape[1] \n",
        "\n",
        "#displaying the number of rows and columns \n",
        "print(\"Rows: \" + str(rows)) \n",
        "print(\"Columns: \" + str(cols)) "
      ],
      "execution_count": 15,
      "outputs": [
        {
          "output_type": "stream",
          "text": [
            "Rows: 366\n",
            "Columns: 3\n"
          ],
          "name": "stdout"
        }
      ]
    },
    {
      "cell_type": "code",
      "metadata": {
        "id": "BnLTvmuyOxhV"
      },
      "source": [
        "X=df['MinTemp'].values.reshape(-1,1)\n",
        "y=df['MaxTemp'].values"
      ],
      "execution_count": 17,
      "outputs": []
    },
    {
      "cell_type": "code",
      "metadata": {
        "id": "nnXiJWJwO26P",
        "outputId": "b41f2fb3-5ed7-4968-9247-8e4c0ee1801c",
        "colab": {
          "base_uri": "https://localhost:8080/",
          "height": 301
        }
      },
      "source": [
        "plt.scatter(X,y) \n",
        "plt.xlabel('MinTemp',fontsize=14) \n",
        "plt.ylabel('MaxTemp',fontsize=14)"
      ],
      "execution_count": 18,
      "outputs": [
        {
          "output_type": "execute_result",
          "data": {
            "text/plain": [
              "Text(0, 0.5, 'MaxTemp')"
            ]
          },
          "metadata": {
            "tags": []
          },
          "execution_count": 18
        },
        {
          "output_type": "display_data",
          "data": {
            "image/png": "[encoded data removed]",
            "text/plain": [
              "<Figure size 432x288 with 1 Axes>"
            ]
          },
          "metadata": {
            "tags": [],
            "needs_background": "light"
          }
        }
      ]
    },
    {
      "cell_type": "code",
      "metadata": {
        "id": "Fp3rTPn1QF4b"
      },
      "source": [
        "X=X.reshape(-1,1)"
      ],
      "execution_count": 19,
      "outputs": []
    },
    {
      "cell_type": "code",
      "metadata": {
        "id": "aWdi85-uQVjr"
      },
      "source": [
        "# split into train test sets\n",
        "X_train, X_test, y_train, y_test = train_test_split(X, y, test_size=0.4)"
      ],
      "execution_count": 20,
      "outputs": []
    },
    {
      "cell_type": "code",
      "metadata": {
        "id": "ZNl4BBjRQsCe",
        "outputId": "be8fbc8c-5893-46cf-cb4c-b2bea1ea0c73",
        "colab": {
          "base_uri": "https://localhost:8080/"
        }
      },
      "source": [
        "linreg = LinearRegression(fit_intercept=True) \n",
        "linreg.fit(X_train, y_train) \n",
        "#training the algorithm y_pred_tr = linreg.predict(x_train) y_pred_te = linreg.predict(x_test)"
      ],
      "execution_count": 23,
      "outputs": [
        {
          "output_type": "execute_result",
          "data": {
            "text/plain": [
              "LinearRegression(copy_X=True, fit_intercept=True, n_jobs=None, normalize=False)"
            ]
          },
          "metadata": {
            "tags": []
          },
          "execution_count": 23
        }
      ]
    },
    {
      "cell_type": "code",
      "metadata": {
        "id": "cUu1f9TJUQJW",
        "outputId": "eb39170b-e841-4dc6-f89c-7586e346f77d",
        "colab": {
          "base_uri": "https://localhost:8080/",
          "height": 415
        }
      },
      "source": [
        "y_pred = linreg.predict(X_test)\n",
        "df = pd.DataFrame({'Test data': y_test, 'Predicted':y_pred})\n",
        "df"
      ],
      "execution_count": 31,
      "outputs": [
        {
          "output_type": "execute_result",
          "data": {
            "text/html": [
              "<div>\n",
              "<style scoped>\n",
              "    .dataframe tbody tr th:only-of-type {\n",
              "        vertical-align: middle;\n",
              "    }\n",
              "\n",
              "    .dataframe tbody tr th {\n",
              "        vertical-align: top;\n",
              "    }\n",
              "\n",
              "    .dataframe thead th {\n",
              "        text-align: right;\n",
              "    }\n",
              "</style>\n",
              "<table border=\"1\" class=\"dataframe\">\n",
              "  <thead>\n",
              "    <tr style=\"text-align: right;\">\n",
              "      <th></th>\n",
              "      <th>Test data</th>\n",
              "      <th>Predicted</th>\n",
              "    </tr>\n",
              "  </thead>\n",
              "  <tbody>\n",
              "    <tr>\n",
              "      <th>0</th>\n",
              "      <td>18.5</td>\n",
              "      <td>25.655484</td>\n",
              "    </tr>\n",
              "    <tr>\n",
              "      <th>1</th>\n",
              "      <td>20.7</td>\n",
              "      <td>27.048168</td>\n",
              "    </tr>\n",
              "    <tr>\n",
              "      <th>2</th>\n",
              "      <td>12.2</td>\n",
              "      <td>13.643586</td>\n",
              "    </tr>\n",
              "    <tr>\n",
              "      <th>3</th>\n",
              "      <td>28.4</td>\n",
              "      <td>20.694048</td>\n",
              "    </tr>\n",
              "    <tr>\n",
              "      <th>4</th>\n",
              "      <td>12.9</td>\n",
              "      <td>12.686116</td>\n",
              "    </tr>\n",
              "    <tr>\n",
              "      <th>...</th>\n",
              "      <td>...</td>\n",
              "      <td>...</td>\n",
              "    </tr>\n",
              "    <tr>\n",
              "      <th>142</th>\n",
              "      <td>8.7</td>\n",
              "      <td>16.080783</td>\n",
              "    </tr>\n",
              "    <tr>\n",
              "      <th>143</th>\n",
              "      <td>18.0</td>\n",
              "      <td>24.262801</td>\n",
              "    </tr>\n",
              "    <tr>\n",
              "      <th>144</th>\n",
              "      <td>18.0</td>\n",
              "      <td>14.426970</td>\n",
              "    </tr>\n",
              "    <tr>\n",
              "      <th>145</th>\n",
              "      <td>19.6</td>\n",
              "      <td>22.521946</td>\n",
              "    </tr>\n",
              "    <tr>\n",
              "      <th>146</th>\n",
              "      <td>16.3</td>\n",
              "      <td>20.955176</td>\n",
              "    </tr>\n",
              "  </tbody>\n",
              "</table>\n",
              "<p>147 rows × 2 columns</p>\n",
              "</div>"
            ],
            "text/plain": [
              "     Test data  Predicted\n",
              "0         18.5  25.655484\n",
              "1         20.7  27.048168\n",
              "2         12.2  13.643586\n",
              "3         28.4  20.694048\n",
              "4         12.9  12.686116\n",
              "..         ...        ...\n",
              "142        8.7  16.080783\n",
              "143       18.0  24.262801\n",
              "144       18.0  14.426970\n",
              "145       19.6  22.521946\n",
              "146       16.3  20.955176\n",
              "\n",
              "[147 rows x 2 columns]"
            ]
          },
          "metadata": {
            "tags": []
          },
          "execution_count": 31
        }
      ]
    },
    {
      "cell_type": "code",
      "metadata": {
        "id": "I-DN6XQbTovU",
        "outputId": "a0949f84-56fe-4769-d30b-3e68790c9387",
        "colab": {
          "base_uri": "https://localhost:8080/",
          "height": 554
        }
      },
      "source": [
        "#needs Y=y.reshape(-1,1) to run this\n",
        "X_pred = linreg.predict(y_test)\n",
        "df = pd.DataFrame({'Test data': X_test, 'Predicted':X_pred})\n",
        "df"
      ],
      "execution_count": 32,
      "outputs": [
        {
          "output_type": "error",
          "ename": "ValueError",
          "evalue": "ignored",
          "traceback": [
            "\u001b[0;31m---------------------------------------------------------------------------\u001b[0m",
            "\u001b[0;31mValueError\u001b[0m                                Traceback (most recent call last)",
            "\u001b[0;32m<ipython-input-32-c574bb508dda>\u001b[0m in \u001b[0;36m<module>\u001b[0;34m()\u001b[0m\n\u001b[0;32m----> 1\u001b[0;31m \u001b[0mX_pred\u001b[0m \u001b[0;34m=\u001b[0m \u001b[0mlinreg\u001b[0m\u001b[0;34m.\u001b[0m\u001b[0mpredict\u001b[0m\u001b[0;34m(\u001b[0m\u001b[0my_test\u001b[0m\u001b[0;34m)\u001b[0m\u001b[0;34m\u001b[0m\u001b[0;34m\u001b[0m\u001b[0m\n\u001b[0m\u001b[1;32m      2\u001b[0m \u001b[0mdf\u001b[0m \u001b[0;34m=\u001b[0m \u001b[0mpd\u001b[0m\u001b[0;34m.\u001b[0m\u001b[0mDataFrame\u001b[0m\u001b[0;34m(\u001b[0m\u001b[0;34m{\u001b[0m\u001b[0;34m'Test data'\u001b[0m\u001b[0;34m:\u001b[0m \u001b[0mX_test\u001b[0m\u001b[0;34m,\u001b[0m \u001b[0;34m'Predicted'\u001b[0m\u001b[0;34m:\u001b[0m\u001b[0mX_pred\u001b[0m\u001b[0;34m}\u001b[0m\u001b[0;34m)\u001b[0m\u001b[0;34m\u001b[0m\u001b[0;34m\u001b[0m\u001b[0m\n\u001b[1;32m      3\u001b[0m \u001b[0mdf\u001b[0m\u001b[0;34m\u001b[0m\u001b[0;34m\u001b[0m\u001b[0m\n",
            "\u001b[0;32m/usr/local/lib/python3.6/dist-packages/sklearn/linear_model/_base.py\u001b[0m in \u001b[0;36mpredict\u001b[0;34m(self, X)\u001b[0m\n\u001b[1;32m    223\u001b[0m             \u001b[0mReturns\u001b[0m \u001b[0mpredicted\u001b[0m \u001b[0mvalues\u001b[0m\u001b[0;34m.\u001b[0m\u001b[0;34m\u001b[0m\u001b[0;34m\u001b[0m\u001b[0m\n\u001b[1;32m    224\u001b[0m         \"\"\"\n\u001b[0;32m--> 225\u001b[0;31m         \u001b[0;32mreturn\u001b[0m \u001b[0mself\u001b[0m\u001b[0;34m.\u001b[0m\u001b[0m_decision_function\u001b[0m\u001b[0;34m(\u001b[0m\u001b[0mX\u001b[0m\u001b[0;34m)\u001b[0m\u001b[0;34m\u001b[0m\u001b[0;34m\u001b[0m\u001b[0m\n\u001b[0m\u001b[1;32m    226\u001b[0m \u001b[0;34m\u001b[0m\u001b[0m\n\u001b[1;32m    227\u001b[0m     \u001b[0m_preprocess_data\u001b[0m \u001b[0;34m=\u001b[0m \u001b[0mstaticmethod\u001b[0m\u001b[0;34m(\u001b[0m\u001b[0m_preprocess_data\u001b[0m\u001b[0;34m)\u001b[0m\u001b[0;34m\u001b[0m\u001b[0;34m\u001b[0m\u001b[0m\n",
            "\u001b[0;32m/usr/local/lib/python3.6/dist-packages/sklearn/linear_model/_base.py\u001b[0m in \u001b[0;36m_decision_function\u001b[0;34m(self, X)\u001b[0m\n\u001b[1;32m    205\u001b[0m         \u001b[0mcheck_is_fitted\u001b[0m\u001b[0;34m(\u001b[0m\u001b[0mself\u001b[0m\u001b[0;34m)\u001b[0m\u001b[0;34m\u001b[0m\u001b[0;34m\u001b[0m\u001b[0m\n\u001b[1;32m    206\u001b[0m \u001b[0;34m\u001b[0m\u001b[0m\n\u001b[0;32m--> 207\u001b[0;31m         \u001b[0mX\u001b[0m \u001b[0;34m=\u001b[0m \u001b[0mcheck_array\u001b[0m\u001b[0;34m(\u001b[0m\u001b[0mX\u001b[0m\u001b[0;34m,\u001b[0m \u001b[0maccept_sparse\u001b[0m\u001b[0;34m=\u001b[0m\u001b[0;34m[\u001b[0m\u001b[0;34m'csr'\u001b[0m\u001b[0;34m,\u001b[0m \u001b[0;34m'csc'\u001b[0m\u001b[0;34m,\u001b[0m \u001b[0;34m'coo'\u001b[0m\u001b[0;34m]\u001b[0m\u001b[0;34m)\u001b[0m\u001b[0;34m\u001b[0m\u001b[0;34m\u001b[0m\u001b[0m\n\u001b[0m\u001b[1;32m    208\u001b[0m         return safe_sparse_dot(X, self.coef_.T,\n\u001b[1;32m    209\u001b[0m                                dense_output=True) + self.intercept_\n",
            "\u001b[0;32m/usr/local/lib/python3.6/dist-packages/sklearn/utils/validation.py\u001b[0m in \u001b[0;36mcheck_array\u001b[0;34m(array, accept_sparse, accept_large_sparse, dtype, order, copy, force_all_finite, ensure_2d, allow_nd, ensure_min_samples, ensure_min_features, warn_on_dtype, estimator)\u001b[0m\n\u001b[1;32m    554\u001b[0m                     \u001b[0;34m\"Reshape your data either using array.reshape(-1, 1) if \"\u001b[0m\u001b[0;34m\u001b[0m\u001b[0;34m\u001b[0m\u001b[0m\n\u001b[1;32m    555\u001b[0m                     \u001b[0;34m\"your data has a single feature or array.reshape(1, -1) \"\u001b[0m\u001b[0;34m\u001b[0m\u001b[0;34m\u001b[0m\u001b[0m\n\u001b[0;32m--> 556\u001b[0;31m                     \"if it contains a single sample.\".format(array))\n\u001b[0m\u001b[1;32m    557\u001b[0m \u001b[0;34m\u001b[0m\u001b[0m\n\u001b[1;32m    558\u001b[0m         \u001b[0;31m# in the future np.flexible dtypes will be handled like object dtypes\u001b[0m\u001b[0;34m\u001b[0m\u001b[0;34m\u001b[0m\u001b[0;34m\u001b[0m\u001b[0m\n",
            "\u001b[0;31mValueError\u001b[0m: Expected 2D array, got 1D array instead:\narray=[18.5 20.7 12.2 28.4 12.9 16.  19.9 19.  27.1  9.6 18.9 26.9 28.2 18.\n 20.7 14.1 24.4 31.7 14.7 19.4 24.7 18.  12.  13.9 27.8 12.8 25.8 17.3\n 23.1  9.7 20.5 16.2 11.8 30.2 12.8 27.4 22.8 14.8 24.3 17.5 21.9 11.5\n 15.  16.1 10.9 11.7 18.5 24.3 18.6 22.4 21.8 14.  34.2 10.7 18.5 22.5\n 27.8 21.  32.3 33.8 28.8 12.3 14.1 17.9 20.9 16.7 15.4 26.8 27.3 11.3\n 25.8 17.3 15.5 11.6 16.9 33.5 25.5 27.6 25.7 11.5 31.6 21.  25.1 11.\n 18.2 14.7 26.3 16.1 23.4 19.8 16.3 27.8 24.1 16.2 30.9 14.8 18.4 13.8\n 17.3  9.3 24.2 29.9 12.4 26.7 15.9 29.3 18.7 21.7 12.3 23.4 29.9 33.4\n 26.9 30.3 21.1 14.  27.9 19.9 23.8 21.7 25.2 11.7 18.3 24.1 15.5 33.2\n 22.6 24.1 18.7 20.6 27.4 28.2 26.1 10.6 26.1 24.4 20.2 20.4 16.8 19.2\n 35.7 17.2  8.7 18.  18.  19.6 16.3].\nReshape your data either using array.reshape(-1, 1) if your data has a single feature or array.reshape(1, -1) if it contains a single sample."
          ]
        }
      ]
    },
    {
      "cell_type": "code",
      "metadata": {
        "id": "loMF7-cjSmR9",
        "outputId": "45d35575-5ecf-4caa-ff0a-5157dc5ba356",
        "colab": {
          "base_uri": "https://localhost:8080/"
        }
      },
      "source": [
        "y_pred_tr = linreg.predict(X_train)\n",
        "y_pred_te = linreg.predict(X_test)\n",
        "\n",
        "print('Mean Squared Error Training:', np.mean((y_train-y_pred_tr)**2))\n",
        "print('RootMean Squared Error Training:', np.sqrt(np.mean((y_train-y_pred_tr)**2)))\n",
        "\n",
        "print('Mean Squared Error Training:', np.mean((y_test-y_pred_te)**2))\n",
        "print('RootMean Squared Error Training:', np.sqrt(np.mean((y_test-y_pred_te)**2)))"
      ],
      "execution_count": 33,
      "outputs": [
        {
          "output_type": "stream",
          "text": [
            "Mean Squared Error Training: 20.02905306162995\n",
            "RootMean Squared Error Training: 4.475383007255351\n",
            "Mean Squared Error Training: 18.691157276126656\n",
            "RootMean Squared Error Training: 4.323327107231958\n"
          ],
          "name": "stdout"
        }
      ]
    },
    {
      "cell_type": "code",
      "metadata": {
        "id": "ibHVKQovWigs",
        "outputId": "db484706-6d5e-4fad-8a74-c809cf1e080a",
        "colab": {
          "base_uri": "https://localhost:8080/"
        }
      },
      "source": [
        "print('Mean Squared Error:', metrics.mean_squared_error(y_train, y_pred_tr))  \n",
        "print('Root Mean Squared Error:', np.sqrt(metrics.mean_squared_error(y_train, y_pred_tr)))"
      ],
      "execution_count": 37,
      "outputs": [
        {
          "output_type": "stream",
          "text": [
            "Mean Squared Error: 20.02905306162995\n",
            "Root Mean Squared Error: 4.475383007255351\n"
          ],
          "name": "stdout"
        }
      ]
    },
    {
      "cell_type": "code",
      "metadata": {
        "id": "2eQxxz0GWnR-",
        "outputId": "7a2a7c6e-b5a1-4266-e050-659ad3ada6ee",
        "colab": {
          "base_uri": "https://localhost:8080/"
        }
      },
      "source": [
        "y_pred = linreg.predict(X_test)\n",
        "print('Mean Squared Error:', metrics.mean_squared_error(y_test, y_pred))  \n",
        "print('Root Mean Squared Error:', np.sqrt(metrics.mean_squared_error(y_test, y_pred)))"
      ],
      "execution_count": 36,
      "outputs": [
        {
          "output_type": "stream",
          "text": [
            "Mean Squared Error: 18.691157276126656\n",
            "Root Mean Squared Error: 4.323327107231958\n"
          ],
          "name": "stdout"
        }
      ]
    },
    {
      "cell_type": "code",
      "metadata": {
        "id": "4YmXs0HfWyQW",
        "outputId": "d8dc2781-f52f-418a-ed76-ba3b9de74ad8",
        "colab": {
          "base_uri": "https://localhost:8080/",
          "height": 283
        }
      },
      "source": [
        "alpha = linreg.intercept_ \n",
        "beta = linreg.coef_[0] \n",
        "plt.plot(X,alpha+beta*X,color='r') \n",
        "plt.scatter(X,y)\n",
        "\n"
      ],
      "execution_count": 38,
      "outputs": [
        {
          "output_type": "execute_result",
          "data": {
            "text/plain": [
              "<matplotlib.collections.PathCollection at 0x7f0d490eac50>"
            ]
          },
          "metadata": {
            "tags": []
          },
          "execution_count": 38
        },
        {
          "output_type": "display_data",
          "data": {
            "image/png": "[encoded data removed]",
            "text/plain": [
              "<Figure size 432x288 with 1 Axes>"
            ]
          },
          "metadata": {
            "tags": [],
            "needs_background": "light"
          }
        }
      ]
    },
    {
      "cell_type": "code",
      "metadata": {
        "id": "ZREAY1fDYbrg",
        "outputId": "30e5750e-4517-413b-bd1f-935e0a1256ff",
        "colab": {
          "base_uri": "https://localhost:8080/",
          "height": 318
        }
      },
      "source": [
        "alpha = linreg.intercept_\n",
        "beta = linreg.coef_[0]\n",
        "print(\"Predicted MaxTemp at MinTemp=35  is \", alpha+beta*35)\n",
        "plt.scatter(35,alpha+beta*35,color='r')\n",
        "plt.scatter(X,y)\n",
        "xx = np.linspace(-7,35,100)\n",
        "plt.plot(xx,alpha+beta*xx,color='r')\n",
        "plt.xlabel('MinTemp',fontsize=14)\n",
        "plt.ylabel('MaxTemp',fontsize=14)"
      ],
      "execution_count": 39,
      "outputs": [
        {
          "output_type": "stream",
          "text": [
            "Predicted MaxTemp at MinTemp=35  is  44.978973689642054\n"
          ],
          "name": "stdout"
        },
        {
          "output_type": "execute_result",
          "data": {
            "text/plain": [
              "Text(0, 0.5, 'MaxTemp')"
            ]
          },
          "metadata": {
            "tags": []
          },
          "execution_count": 39
        },
        {
          "output_type": "display_data",
          "data": {
            "image/png": "[encoded data removed]",
            "text/plain": [
              "<Figure size 432x288 with 1 Axes>"
            ]
          },
          "metadata": {
            "tags": [],
            "needs_background": "light"
          }
        }
      ]
    },
    {
      "cell_type": "code",
      "metadata": {
        "id": "0L4yJPqRbXMP",
        "outputId": "b6359d7e-d987-4d7e-952d-7ecf528a13a4",
        "colab": {
          "base_uri": "https://localhost:8080/"
        }
      },
      "source": [
        "xx = np.linspace(-7,35,100)\n",
        "print(alpha+beta*xx)"
      ],
      "execution_count": 41,
      "outputs": [
        {
          "output_type": "stream",
          "text": [
            "[ 8.42102107  8.79029332  9.15956556  9.52883781  9.89811006 10.26738231\n",
            " 10.63665456 11.00592681 11.37519906 11.74447131 12.11374355 12.4830158\n",
            " 12.85228805 13.2215603  13.59083255 13.9601048  14.32937705 14.6986493\n",
            " 15.06792154 15.43719379 15.80646604 16.17573829 16.54501054 16.91428279\n",
            " 17.28355504 17.65282729 18.02209953 18.39137178 18.76064403 19.12991628\n",
            " 19.49918853 19.86846078 20.23773303 20.60700527 20.97627752 21.34554977\n",
            " 21.71482202 22.08409427 22.45336652 22.82263877 23.19191102 23.56118326\n",
            " 23.93045551 24.29972776 24.66900001 25.03827226 25.40754451 25.77681676\n",
            " 26.14608901 26.51536125 26.8846335  27.25390575 27.623178   27.99245025\n",
            " 28.3617225  28.73099475 29.100267   29.46953924 29.83881149 30.20808374\n",
            " 30.57735599 30.94662824 31.31590049 31.68517274 32.05444498 32.42371723\n",
            " 32.79298948 33.16226173 33.53153398 33.90080623 34.27007848 34.63935073\n",
            " 35.00862297 35.37789522 35.74716747 36.11643972 36.48571197 36.85498422\n",
            " 37.22425647 37.59352872 37.96280096 38.33207321 38.70134546 39.07061771\n",
            " 39.43988996 39.80916221 40.17843446 40.54770671 40.91697895 41.2862512\n",
            " 41.65552345 42.0247957  42.39406795 42.7633402  43.13261245 43.50188469\n",
            " 43.87115694 44.24042919 44.60970144 44.97897369]\n"
          ],
          "name": "stdout"
        }
      ]
    },
    {
      "cell_type": "code",
      "metadata": {
        "id": "grHY888Mb5ZA",
        "outputId": "d55a9f67-d2e1-42b5-a7b1-e56dabb8f1f9",
        "colab": {
          "base_uri": "https://localhost:8080/",
          "height": 283
        }
      },
      "source": [
        "plt.plot(xx,alpha+beta*xx,color='r')"
      ],
      "execution_count": 42,
      "outputs": [
        {
          "output_type": "execute_result",
          "data": {
            "text/plain": [
              "[<matplotlib.lines.Line2D at 0x7f0d48fe3160>]"
            ]
          },
          "metadata": {
            "tags": []
          },
          "execution_count": 42
        },
        {
          "output_type": "display_data",
          "data": {
            "image/png": "[encoded data removed]",
            "text/plain": [
              "<Figure size 432x288 with 1 Axes>"
            ]
          },
          "metadata": {
            "tags": [],
            "needs_background": "light"
          }
        }
      ]
    }
  ]
}