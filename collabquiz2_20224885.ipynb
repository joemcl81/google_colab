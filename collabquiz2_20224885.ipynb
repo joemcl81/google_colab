{
  "nbformat": 4,
  "nbformat_minor": 0,
  "metadata": {
    "colab": {
      "name": "collabquiz2_20224885.ipynb",
      "provenance": [],
      "authorship_tag": "ABX9TyP//EDLtdkZFneOv8mMO2qm",
      "include_colab_link": true
    },
    "kernelspec": {
      "name": "python3",
      "display_name": "Python 3"
    }
  },
  "cells": [
    {
      "cell_type": "markdown",
      "metadata": {
        "id": "view-in-github",
        "colab_type": "text"
      },
      "source": [
        "<a href=\"https://colab.research.google.com/github/joemcl81/google_colab/blob/main/collabquiz2_20224885.ipynb\" target=\"_parent\"><img src=\"https://colab.research.google.com/assets/colab-badge.svg\" alt=\"Open In Colab\"/></a>"
      ]
    },
    {
      "cell_type": "markdown",
      "metadata": {
        "id": "BEWnImmT00cm"
      },
      "source": [
        "Joseph Mc Laughlin, 20224885\n",
        "\n",
        "CollabQuiz of The Week 2"
      ]
    },
    {
      "cell_type": "markdown",
      "metadata": {
        "id": "8LvEVYip0aD_"
      },
      "source": [
        "Q1\n",
        "\n",
        "Explain the advantage of using Dynamic Programming over Recursion for computing the Minimum Edit Distance."
      ]
    },
    {
      "cell_type": "markdown",
      "metadata": {
        "id": "XVJ6TTF10fkT"
      },
      "source": [
        "#Answer"
      ]
    },
    {
      "cell_type": "markdown",
      "metadata": {
        "id": "oTHbpR1I0gS7"
      },
      "source": [
        "**Answer one of the following questions:**"
      ]
    },
    {
      "cell_type": "markdown",
      "metadata": {
        "id": "ou0FnOu-0n-D"
      },
      "source": [
        "Q2\n",
        "\n",
        "Using the table below, identify the top 5 character pairs which are most likely to be misspelt/typed incorrectly"
      ]
    },
    {
      "cell_type": "markdown",
      "metadata": {
        "id": "w1Wm1WQo0w2d"
      },
      "source": [
        "#Answer"
      ]
    },
    {
      "cell_type": "markdown",
      "metadata": {
        "id": "9ptuYeTw0qpc"
      },
      "source": [
        "Q3\n",
        "\n",
        "This week we learnt about Phonetic Matching and one of its algorithms called Soundex. Name one or more similar algorithms and explain their pros/cons. [Research Question, i.e. you won’t find the answer in the material of the week]"
      ]
    },
    {
      "cell_type": "markdown",
      "metadata": {
        "id": "8zRW7asi0yb6"
      },
      "source": [
        "#Answer"
      ]
    }
  ]
}