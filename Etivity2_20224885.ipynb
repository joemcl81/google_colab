{
  "nbformat": 4,
  "nbformat_minor": 0,
  "metadata": {
    "colab": {
      "name": "E-tivity2_20224885.ipynb",
      "provenance": [],
      "authorship_tag": "ABX9TyPex8I44RuvdmdEdLtFpIel",
      "include_colab_link": true
    },
    "kernelspec": {
      "name": "python3",
      "display_name": "Python 3"
    }
  },
  "cells": [
    {
      "cell_type": "markdown",
      "metadata": {
        "id": "view-in-github",
        "colab_type": "text"
      },
      "source": [
        "<a href=\"https://colab.research.google.com/github/joemcl81/google_colab/blob/main/Etivity2_20224885.ipynb\" target=\"_parent\"><img src=\"https://colab.research.google.com/assets/colab-badge.svg\" alt=\"Open In Colab\"/></a>"
      ]
    },
    {
      "cell_type": "markdown",
      "metadata": {
        "id": "8dHXZItiuceo"
      },
      "source": [
        "Joseph Mc Laughlin, 20224885\n",
        "\n",
        "E-tivity2"
      ]
    },
    {
      "cell_type": "markdown",
      "metadata": {
        "id": "Uz3Lb2HbumP0"
      },
      "source": [
        "Task 1: [2 marks]\n",
        "\n",
        "Modify the code below to achieve the following:\n",
        "\n",
        "(a) the editDistance function should measure the Levenshtein distance,  i. e. insertion cost = 1, deletion cost = 1, substitution cost = 2\n",
        "\n",
        "(b) use the Python time.time() function to measure the processing time\n"
      ]
    },
    {
      "cell_type": "code",
      "metadata": {
        "id": "xyaizOFiubr5",
        "outputId": "52d15dff-b65e-4457-9356-0c4db2baf4c9",
        "colab": {
          "base_uri": "https://localhost:8080/"
        }
      },
      "source": [
        "import time\n",
        "def edDistRecursive(x, y):\n",
        "  start = time.time()\n",
        "  #print(\"Time elapsed on working...\")\n",
        "  if len(x) == 0: return len(y)\n",
        "  if len(y) == 0: return len(x)\n",
        "  delt = 1 if x[-1] != y[-1] else 0\n",
        "  diag = edDistRecursive(x[:-1], y[:-1]) + delt\n",
        "  vert = edDistRecursive(x[:-1], y) + 1\n",
        "  horz = edDistRecursive(x, y[:-1]) + 1\n",
        "  end = time.time()\n",
        "  return min(diag, vert, horz)\n",
        "  print(end - start)\n",
        "\n",
        "print(edDistRecursive(\"INTENTION\",\"EXECUTION\"))"
      ],
      "execution_count": 2,
      "outputs": [
        {
          "output_type": "stream",
          "text": [
            "5\n"
          ],
          "name": "stdout"
        }
      ]
    },
    {
      "cell_type": "code",
      "metadata": {
        "id": "DuawxMVnCoRi",
        "outputId": "53fdbb4e-7e66-4bb3-c788-738e079d341a",
        "colab": {
          "base_uri": "https://localhost:8080/"
        }
      },
      "source": [
        "def levenshtein(x, y):\n",
        "    start = time.time()\n",
        "    if len(x) == 0: return len(y)\n",
        "    if len(y) == 0: return len(x)\n",
        "    if x[-1] == y[-1]:\n",
        "        cost = 0\n",
        "    else:\n",
        "        cost = 2\n",
        "    res = min([levenshtein(x[:-1], y)+1,\n",
        "               levenshtein(x, y[:-1])+1, \n",
        "               levenshtein(x[:-1], y[:-1]) + cost])\n",
        "    end = time.time()\n",
        "    return res\n",
        "\n",
        "\n",
        "print(levenshtein(\"INTENTION\", \"EXECUTION\"))"
      ],
      "execution_count": null,
      "outputs": [
        {
          "output_type": "stream",
          "text": [
            "8\n"
          ],
          "name": "stdout"
        }
      ]
    },
    {
      "cell_type": "markdown",
      "metadata": {
        "id": "DvGYpybyvAbm"
      },
      "source": [
        "Task 2: [4 marks]\n",
        "\n",
        "Modify the code below to achieve the following:\n",
        "\n",
        "(a) the editDistance function should measure the Levenshtein distance, i.e. insertion cost = 1, deletion cost = 1, substitution cost = 2\n",
        "\n",
        "(b) use the Python time.time() function to measure the processing time\n",
        "\n",
        "(c) Augment the code so that it outputs a minimum distance table including backtrace pointers in each cell (as shown in the sample output below). you will need to store pointers and add a stage to compute the backtrace.\n",
        "\n"
      ]
    },
    {
      "cell_type": "code",
      "metadata": {
        "id": "xF531ujevIM8",
        "outputId": "d5b54dac-fa1c-4337-8eed-e19e5604f76c",
        "colab": {
          "base_uri": "https://localhost:8080/"
        }
      },
      "source": [
        "# A Dynamic Programming based Python program for edit\n",
        "# distance problem\n",
        "def editDistDP(str1, str2, m, n):\n",
        "   start = time.time()\n",
        "   # Create a table to store results of subproblems\n",
        "   dp = [[0 for x in range(n + 1)] for x in range(m + 1)]\n",
        "    # Fill dp[][] in bottom up manner\n",
        "   for i in range(m + 1):\n",
        "       for j in range(n + 1):\n",
        "            # If first string is empty, only option is to\n",
        "           # insert all characters of second string\n",
        "           if i == 0:\n",
        "               dp[i][j] = j    # Min. operations = j\n",
        "            # If second string is empty, only option is to\n",
        "           # remove all characters of second string\n",
        "           elif j == 0:\n",
        "               dp[i][j] = i    # Min. operations = i\n",
        "            # If last characters are same, ignore last char\n",
        "           # and recur for remaining string\n",
        "           elif str1[i-1] == str2[j-1]:\n",
        "               dp[i][j] = dp[i-1][j-1]\n",
        "            # If last character are different, consider all\n",
        "           # possibilities and find minimum\n",
        "           else:\n",
        "               dp[i][j] = 1 + min(dp[i][j-1],        # Insert\n",
        "                                  dp[i-1][j],        # Remove\n",
        "                                  dp[i-1][j-1] + 1)    # Replace\n",
        "   end = time.time()\n",
        "   return dp[m][n], \"Processing time =  %s\" %(end - start)\n",
        " # Driver program\n",
        "str1 = \"INTENTION\"\n",
        "str2 = \"EXECUTION\"\n",
        "print(editDistDP(str1, str2, len(str1), len(str2)))\n",
        "# This code is contributed by Bhavya Jain"
      ],
      "execution_count": 3,
      "outputs": [
        {
          "output_type": "stream",
          "text": [
            "(8, 'Processing time =  0.00010204315185546875')\n"
          ],
          "name": "stdout"
        }
      ]
    },
    {
      "cell_type": "code",
      "metadata": {
        "id": "pI45lB-GgwDq",
        "outputId": "9e27d2d3-b805-4e0a-80e2-e2250662eb06",
        "colab": {
          "base_uri": "https://localhost:8080/"
        }
      },
      "source": [
        "\n",
        "def editDistDP(str1, str2):\n",
        "    start = time.time()\n",
        "    rows = len(str1)+1\n",
        "    cols = len(str2)+1\n",
        "    dist = [[0 for x in range(cols)] for x in range(rows)]\n",
        "\n",
        "    # source prefixes can be transformed into empty strings \n",
        "    # by deletions:\n",
        "    for i in range(1, rows):\n",
        "        dist[i][0] = i\n",
        "\n",
        "    # target prefixes can be created from an empty source string\n",
        "    # by inserting the characters\n",
        "    for i in range(1, cols):\n",
        "        dist[0][i] = i\n",
        "        \n",
        "    for col in range(1, cols):\n",
        "        for row in range(1, rows):\n",
        "            if str1[row-1] == str2[col-1]:\n",
        "                cost = 0\n",
        "            else:\n",
        "                cost = 2\n",
        "            dist[row][col] = min(dist[row-1][col] + 1,      # deletion\n",
        "                                 dist[row][col-1] + 1,      # insertion\n",
        "                                 dist[row-1][col-1] + cost) # substitution\n",
        "\n",
        "    for r in range(rows):\n",
        "        print(dist[r])\n",
        "    \n",
        "    end = time.time()\n",
        "    return \"Levenshtein distance = %s \" % dist[row][col], \"Processing time =  %s\" %(end - start)\n",
        "\n",
        "print(editDistDP(\"INTENTION\", \"EXECUTION\"))"
      ],
      "execution_count": 4,
      "outputs": [
        {
          "output_type": "stream",
          "text": [
            "[0, 1, 2, 3, 4, 5, 6, 7, 8, 9]\n",
            "[1, 2, 3, 4, 5, 6, 7, 6, 7, 8]\n",
            "[2, 3, 4, 5, 6, 7, 8, 7, 8, 7]\n",
            "[3, 4, 5, 6, 7, 8, 7, 8, 9, 8]\n",
            "[4, 3, 4, 5, 6, 7, 8, 9, 10, 9]\n",
            "[5, 4, 5, 6, 7, 8, 9, 10, 11, 10]\n",
            "[6, 5, 6, 7, 8, 9, 8, 9, 10, 11]\n",
            "[7, 6, 7, 8, 9, 10, 9, 8, 9, 10]\n",
            "[8, 7, 8, 9, 10, 11, 10, 9, 8, 9]\n",
            "[9, 8, 9, 10, 11, 12, 11, 10, 9, 8]\n",
            "('Levenshtein distance = 8 ', 'Processing time =  0.0011925697326660156')\n"
          ],
          "name": "stdout"
        }
      ]
    },
    {
      "cell_type": "markdown",
      "metadata": {
        "id": "ydSSNGQavId7"
      },
      "source": [
        "Task 3: [4 marks]\n",
        "\n",
        "(a) Install the First and Last Names Dataset (https://github.com/philipperemy/name-dataset).  (!pip install names-dataset)\n",
        "\n",
        "(b) Install the jellyfish library for doing approximate and phonetic matching of strings (https://github.com/jamesturk/jellyfish)  (!pip install jellyfish)\n",
        "\n",
        "(c) Write a function that takes your firstName and lastName as input and checks if they exist in the dataset. ⬤\n",
        "\n",
        "(d) Write a function that takes your firstName and lastName as input and prints out their  Soundex codes (use the Soundex function in the jellyfish library). ⬤\n",
        "\n",
        "(e) Write a function that takes your firstName as input and prints out a list of first names in the dataset whose Soundex codes are the same as your firstName’s Soundex code. ⬤\n",
        "\n",
        "(f) Write a function that takes your firstName and lastName as input and returns their Levenshtein Distance (use the Levenshtein Distance function in the jellyfish library). [1 mark] ⬤\n"
      ]
    },
    {
      "cell_type": "code",
      "metadata": {
        "id": "k6rhaaS7wLuD",
        "outputId": "4b85a0db-ad57-47bd-a7c6-c66825f0b28e",
        "colab": {
          "base_uri": "https://localhost:8080/"
        }
      },
      "source": [
        "!pip install names-dataset\n",
        "!pip install jellyfish\n",
        "\n",
        "import re\n",
        "from names_dataset import NameDataset\n",
        "import jellyfish as jf\n",
        "m = NameDataset()\n",
        "\n",
        "def nameExist(firstName, lastName):\n",
        "  return \"Firstname, Lastname is in dataset: %s \" % m.search_first_name(firstName), m.search_last_name(lastName)\n",
        "#Test\n",
        "print(nameExist(\"Donald\", \"Trump\"))\n",
        "print(nameExist(\"Joe\", \"Biden\"))\n",
        "\n",
        "def nameSoundex(firstName, lastName):\n",
        "  return \"Firstname, Lastname Soundex Codes = %s \" % jf.soundex(firstName), jf.soundex(lastName)\n",
        "#Test\n",
        "print(nameSoundex('Donald', 'Trump'))\n",
        "print(nameSoundex('Joe', 'Biden'))\n",
        "\n",
        "def matchSoundex(firstName):\n",
        "  c = jf.soundex(firstName)\n",
        "  for i in m.first_names:\n",
        "    x = re.match(\"[ -~]\", i)\n",
        "    if x:\n",
        "      if c == jf.soundex(i):\n",
        "        print(i)     \n",
        "# Test\n",
        "print(matchSoundex('Donald'))\n",
        "print(matchSoundex('Joe'))\n",
        "\n",
        "def nameDistance(firstName , lastName ):\n",
        "  return \"Levenshtein distance = %s \" % jf.levenshtein_distance(firstName, lastName)\n",
        "#Test\n",
        "print(nameDistance('Donald', 'Trump'))\n",
        "print(nameDistance('Joe', 'Biden'))"
      ],
      "execution_count": 23,
      "outputs": [
        {
          "output_type": "stream",
          "text": [
            "Requirement already satisfied: names-dataset in /usr/local/lib/python3.6/dist-packages (1.9.1)\n",
            "Requirement already satisfied: jellyfish in /usr/local/lib/python3.6/dist-packages (0.8.2)\n",
            "('Firstname, Lastname is in dataset: True ', True)\n",
            "('Firstname, Lastname is in dataset: True ', False)\n",
            "('Firstname, Lastname Soundex Codes = D543 ', 'T651')\n",
            "('Firstname, Lastname Soundex Codes = J000 ', 'B350')\n",
            "donaldine\n",
            "donld\n",
            "dómhildur\n",
            "donalt\n",
            "donelda\n",
            "daniel-edoard\n",
            "doneld\n",
            "danald\n",
            "donlad\n",
            "donald-james\n",
            "donald\n",
            "doanld\n",
            "donalda\n",
            "donald-john\n",
            "denelda\n",
            "ddnald\n",
            "donaldeen\n",
            "donaldson\n",
            "donaldo\n",
            "dimilta\n",
            "danield\n",
            "donold\n",
            "donaldina\n",
            "demilade\n",
            "donnald\n",
            "None\n",
            "joyia\n",
            "juhee\n",
            "joahua\n",
            "joey\n",
            "juho\n",
            "jah\n",
            "joy\n",
            "jaewoo\n",
            "jw\n",
            "jhy\n",
            "jaihao\n",
            "jehiah\n",
            "jahiya\n",
            "joão\n",
            "jay-\n",
            "jaiah\n",
            "jaea\n",
            "juhi\n",
            "jayia\n",
            "jiayou\n",
            "juha\n",
            "jsai\n",
            "jc\n",
            "jeu\n",
            "jue\n",
            "joiya\n",
            "jayah\n",
            "jyah\n",
            "jihae\n",
            "jeeya\n",
            "joua\n",
            "jayiah\n",
            "jiwoo\n",
            "jewa\n",
            "jay\n",
            "jkai\n",
            "ji\n",
            "joohi\n",
            "joei\n",
            "jihoo\n",
            "jhai\n",
            "johah\n",
            "jyie\n",
            "jiao\n",
            "jiahao\n",
            "joao\n",
            "jiho\n",
            "jew\n",
            "jyia\n",
            "jhue\n",
            "joye\n",
            "jaye\n",
            "jaia\n",
            "jahey\n",
            "jaie\n",
            "joah\n",
            "jiah\n",
            "jiawei\n",
            "jie\n",
            "joya\n",
            "jsiah\n",
            "jehu\n",
            "joi\n",
            "joh\n",
            "jhuhi\n",
            "jiayue\n",
            "jayy\n",
            "jkia\n",
            "jaiyah\n",
            "joyee\n",
            "johiah\n",
            "joyah\n",
            "jiyah\n",
            "jahya\n",
            "jiaya\n",
            "jui\n",
            "jaiyi\n",
            "jhia\n",
            "jahiyah\n",
            "jee\n",
            "joia\n",
            "jya\n",
            "jhiya\n",
            "johao\n",
            "jua\n",
            "jaeya\n",
            "jy\n",
            "jeya\n",
            "jiu\n",
            "jye\n",
            "joee\n",
            "jae\n",
            "jia\n",
            "joa\n",
            "jaiya\n",
            "jey\n",
            "joie\n",
            "jea\n",
            "johua\n",
            "jeeo\n",
            "jahai\n",
            "jai\n",
            "ju\n",
            "jkiyah\n",
            "joyaa\n",
            "jahia\n",
            "jaya\n",
            "joe\n",
            "jyiah\n",
            "jo\n",
            "jiayi\n",
            "jahi\n",
            "jio\n",
            "jiya\n",
            "joo\n",
            "jiyu\n",
            "jziah\n",
            "joé\n",
            "None\n",
            "Levenshtein distance = 6 \n",
            "Levenshtein distance = 4 \n"
          ],
          "name": "stdout"
        }
      ]
    }
  ]
}