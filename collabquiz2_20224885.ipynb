{
  "nbformat": 4,
  "nbformat_minor": 0,
  "metadata": {
    "colab": {
      "name": "collabquiz2_20224885.ipynb",
      "provenance": [],
      "authorship_tag": "ABX9TyNnxHdyZFrcCiUf3bLuFkz6",
      "include_colab_link": true
    },
    "kernelspec": {
      "name": "python3",
      "display_name": "Python 3"
    }
  },
  "cells": [
    {
      "cell_type": "markdown",
      "metadata": {
        "id": "view-in-github",
        "colab_type": "text"
      },
      "source": [
        "<a href=\"https://colab.research.google.com/github/joemcl81/google_colab/blob/main/collabquiz2_20224885.ipynb\" target=\"_parent\"><img src=\"https://colab.research.google.com/assets/colab-badge.svg\" alt=\"Open In Colab\"/></a>"
      ]
    },
    {
      "cell_type": "markdown",
      "metadata": {
        "id": "BEWnImmT00cm"
      },
      "source": [
        "Joseph Mc Laughlin, 20224885\n",
        "\n",
        "CollabQuiz of The Week 2"
      ]
    },
    {
      "cell_type": "markdown",
      "metadata": {
        "id": "8LvEVYip0aD_"
      },
      "source": [
        "Q1\n",
        "\n",
        "Explain the advantage of using Dynamic Programming over Recursion for computing the Minimum Edit Distance."
      ]
    },
    {
      "cell_type": "markdown",
      "metadata": {
        "id": "XVJ6TTF10fkT"
      },
      "source": [
        "#Answer\n",
        "\n",
        "Dynamic Programming reduces the lines of code while dramatically increases processing performance compared to recursion. This is becauuse it stores previously calculated references rather than computing these each time as required. Performing DP over recursion requires adequate memory available. It can, however, lead to unnecessary resource usage if some values are stored and never referenced again. The minimum edit distance algorithm can be significantly optimised by using (i-1)th row to calculate the ith row. This means only the previous row is stored rather than the entire array reducing memory complexity. \n",
        "\n",
        "The recursive implementation of minimum edit distance is very inefficient because it repeatedly computes the Levenshtein distance of the same substrings. The minimum edit distance can be computed in a non-recursive manner by using a matrix containinig the Levenshtein distances between all prefixes of the first and second strings. These values can be dynamically computed in the matrix. The last value computed is the distance between the two full strings. This results in the Minimum Edit Distance between two strings being calculated significantly faster while supporting backtrace. \n",
        "\n"
      ]
    },
    {
      "cell_type": "markdown",
      "metadata": {
        "id": "oTHbpR1I0gS7"
      },
      "source": [
        "**Answer one of the following questions:**"
      ]
    },
    {
      "cell_type": "markdown",
      "metadata": {
        "id": "ou0FnOu-0n-D"
      },
      "source": [
        "Q2\n",
        "\n",
        "Using the table below, identify the top 5 character pairs which are most likely to be misspelt/typed incorrectly"
      ]
    },
    {
      "cell_type": "markdown",
      "metadata": {
        "id": "w1Wm1WQo0w2d"
      },
      "source": [
        "#Answer"
      ]
    },
    {
      "cell_type": "markdown",
      "metadata": {
        "id": "9ptuYeTw0qpc"
      },
      "source": [
        "Q3\n",
        "\n",
        "This week we learnt about Phonetic Matching and one of its algorithms called Soundex. Name one or more similar algorithms and explain their pros/cons. [Research Question, i.e. you won’t find the answer in the material of the week]"
      ]
    },
    {
      "cell_type": "markdown",
      "metadata": {
        "id": "8zRW7asi0yb6"
      },
      "source": [
        "#Answer\n",
        "\n",
        "Metaphone is a phonetic algorithm released in 1990 for indexing words by their English pronounciation. Metaphone improves upon the Soundex algorithm by using information  about variations and inconsistencies in English spelling and prononciation to produce a more accurate encoding, which is better at matching words and names which sound similar. A revised version of the algorithm, double metaphone. The original algorithm's application was limited to English only, the revised version takes into account spelling peculiarities of various languages. In 2009, Metaphone 3 was relased which achieves an accuracy of 99% for English words, increasing from the 89% of Double Metaphone. This accuracy is for English words, non-English words familiar to US-English, and first names and surnames commonly found within the US as it was tested and compared according to modern engineering standards against a prepared test dataset of correct encodings. \n",
        "\n",
        "Beider-Morse Phonetic Matching, BMPM is another phonetic algorithm. It is used to search for first and last names. BMPM is very intelligent compared to Soundex and Metaphone. It's purpose is to match names that are phonetically equivalent to the expected name. BMPM does not split spellings and does not generate false positives like Soundex. It extracts names that are phonetically equivalent. The following steps are executed to achieve this:\n",
        "*   Determines the language from the spelling of the name\n",
        "*   Applies phonetic rules to identify the language and translates the name into phonetic alphabets\n",
        "*   In the case where the language cannot be identified from the name, generic phonetic rules are applied\n",
        "*   Finally, it applies language-indepdent rules regarding voiced and unvoiced consonands and vowels to ensure reliability and accuracy of its matches. \n",
        "\n",
        "Soundex is most suitable when simplicity is preferred from the algorithm over accuracy. It is very basic to implement. If a more sophisticated alorithm is required, BMPM or Metaphone3 should be implemented however, it is important to note these are more complex. Additionally, it should be noted Metaphone 3 is not open-source, it must be purchased. The original Metaphone and Double Metaphone are both free. "
      ]
    }
  ]
}