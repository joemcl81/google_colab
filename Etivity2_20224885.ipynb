{
  "nbformat": 4,
  "nbformat_minor": 0,
  "metadata": {
    "colab": {
      "name": "E-tivity2_20224885.ipynb",
      "provenance": [],
      "authorship_tag": "ABX9TyPlFzU5IYeWdDO5jgelB7ho",
      "include_colab_link": true
    },
    "kernelspec": {
      "name": "python3",
      "display_name": "Python 3"
    }
  },
  "cells": [
    {
      "cell_type": "markdown",
      "metadata": {
        "id": "view-in-github",
        "colab_type": "text"
      },
      "source": [
        "<a href=\"https://colab.research.google.com/github/joemcl81/google_colab/blob/main/Etivity2_20224885.ipynb\" target=\"_parent\"><img src=\"https://colab.research.google.com/assets/colab-badge.svg\" alt=\"Open In Colab\"/></a>"
      ]
    },
    {
      "cell_type": "markdown",
      "metadata": {
        "id": "8dHXZItiuceo"
      },
      "source": [
        "Joseph Mc Laughlin, 20224885\n",
        "\n",
        "E-tivity2"
      ]
    },
    {
      "cell_type": "markdown",
      "metadata": {
        "id": "Uz3Lb2HbumP0"
      },
      "source": [
        "Task 1: [2 marks]\n",
        "\n",
        "Modify the code below to achieve the following:\n",
        "\n",
        "(a) the editDistance function should measure the Levenshtein distance,  i. e. insertion cost = 1, deletion cost = 1, substitution cost = 2\n",
        "\n",
        "(b) use the Python time.time() function to measure the processing time\n"
      ]
    },
    {
      "cell_type": "code",
      "metadata": {
        "id": "xyaizOFiubr5"
      },
      "source": [
        "def edDistRecursive(x, y):\n",
        "  if len(x) == 0: return len(y)\n",
        "  if len(y) == 0: return len(x)\n",
        "  delt = 1 if x[-1] != y[-1] else 0\n",
        "  diag = edDistRecursive(x[:-1], y[:-1] + delt)\n",
        "  vert = edDistRecursive(x[:-1], y) + 1\n",
        "  horz = edDistRecursive(x, y[:-1]) + 1\n",
        "  return min(diag, vert. horz)"
      ],
      "execution_count": 10,
      "outputs": []
    },
    {
      "cell_type": "markdown",
      "metadata": {
        "id": "DvGYpybyvAbm"
      },
      "source": [
        "Task 2: [4 marks]\n",
        "\n",
        "Modify the code below to achieve the following:\n",
        "\n",
        "(a) the editDistance function should measure the Levenshtein distance, i.e. insertion cost = 1, deletion cost = 1, substitution cost = 2\n",
        "\n",
        "(b) use the Python time.time() function to measure the processing time\n",
        "\n",
        "(c) Augment the code so that it outputs a minimum distance table including backtrace pointers in each cell (as shown in the sample output below). you will need to store pointers and add a stage to compute the backtrace.\n",
        "\n"
      ]
    },
    {
      "cell_type": "code",
      "metadata": {
        "id": "xF531ujevIM8",
        "outputId": "c95337c1-c113-47c1-89ba-b90855ddb867",
        "colab": {
          "base_uri": "https://localhost:8080/",
          "height": 34
        }
      },
      "source": [
        "# A Dynamic Programming based Python program for edit\n",
        "# distance problem\n",
        "def editDistDP(str1, str2, m, n):\n",
        "   # Create a table to store results of subproblems\n",
        "   dp = [[0 for x in range(n + 1)] for x in range(m + 1)]\n",
        "    # Fill dp[][] in bottom up manner\n",
        "   for i in range(m + 1):\n",
        "       for j in range(n + 1):\n",
        "            # If first string is empty, only option is to\n",
        "           # insert all characters of second string\n",
        "           if i == 0:\n",
        "               dp[i][j] = j    # Min. operations = j\n",
        "            # If second string is empty, only option is to\n",
        "           # remove all characters of second string\n",
        "           elif j == 0:\n",
        "               dp[i][j] = i    # Min. operations = i\n",
        "            # If last characters are same, ignore last char\n",
        "           # and recur for remaining string\n",
        "           elif str1[i-1] == str2[j-1]:\n",
        "               dp[i][j] = dp[i-1][j-1]\n",
        "            # If last character are different, consider all\n",
        "           # possibilities and find minimum\n",
        "           else:\n",
        "               dp[i][j] = 1 + min(dp[i][j-1],        # Insert\n",
        "                                  dp[i-1][j],        # Remove\n",
        "                                  dp[i-1][j-1])    # Replace\n",
        "   return dp[m][n]\n",
        " # Driver program\n",
        "str1 = \"INTENTION\"\n",
        "str2 = \"EXECUTION\"\n",
        "print(editDistDP(str1, str2, len(str1), len(str2)))\n",
        "# This code is contributed by Bhavya Jain"
      ],
      "execution_count": 4,
      "outputs": [
        {
          "output_type": "stream",
          "text": [
            "5\n"
          ],
          "name": "stdout"
        }
      ]
    },
    {
      "cell_type": "markdown",
      "metadata": {
        "id": "ydSSNGQavId7"
      },
      "source": [
        "Task 3: [4 marks]\n",
        "\n",
        "(a) Install the First and Last Names Dataset (https://github.com/philipperemy/name-dataset).  (!pip install names-dataset)\n",
        "\n",
        "(b) Install the jellyfish library for doing approximate and phonetic matching of strings (https://github.com/jamesturk/jellyfish)  (!pip install jellyfish)\n",
        "\n",
        "(c) Write a function that takes your firstName and lastName as input and checks if they exist in the dataset. ⬤\n",
        "\n",
        "(d) Write a function that takes your firstName and lastName as input and prints out their  Soundex codes (use the Soundex function in the jellyfish library). ⬤\n",
        "\n",
        "(e) Write a function that takes your firstName as input and prints out a list of first names in the dataset whose Soundex codes are the same as your firstName’s Soundex code. ⬤\n",
        "\n",
        "(f) Write a function that takes your firstName and lastName as input and returns their Levenshtein Distance (use the Levenshtein Distance function in the jellyfish library). [1 mark] ⬤\n"
      ]
    },
    {
      "cell_type": "code",
      "metadata": {
        "id": "k6rhaaS7wLuD",
        "outputId": "1abafc68-46e3-4e42-dbe1-037dae73bd80",
        "colab": {
          "base_uri": "https://localhost:8080/",
          "height": 129
        }
      },
      "source": [
        "!pip install names-dataset\n",
        "!pip install jellyfish\n",
        "\n",
        "from names_dataset import NameDataset\n",
        "import jellyfish\n",
        "m = NameDataset()\n",
        "\n",
        "def nameExist(firstName , lastName ):\n",
        "  #CODE HERE\n",
        "\n",
        "#Test\n",
        "print(nameExist('Donald', 'Trump'))\n",
        "print(nameExist('Joe', 'Biden'))\n",
        "\n",
        "def nameSoundex(firstName , lastName ):\n",
        "  #CODE HERE\n",
        "\n",
        "#Test\n",
        "print(nameSoundex('Donald', 'Trump'))\n",
        "print(nameSoundex('Joe', 'Biden'))\n",
        "\n",
        "def fnLsSoundex(firstName , lastName ):\n",
        "  #CODE HERE\n",
        "\n",
        "#Test\n",
        "print(fnLsSoundex('Donald', 'Trump'))\n",
        "print(fnLsSoundex('Joe', 'Biden'))\n",
        "\n",
        "def nameDistance(firstName , lastName ):\n",
        "  #CODE HERE\n",
        "\n",
        "#Test\n",
        "print(nameDistance('Donald', 'Trump'))\n",
        "print(nameDistance('Joe', 'Biden'))"
      ],
      "execution_count": 8,
      "outputs": [
        {
          "output_type": "error",
          "ename": "IndentationError",
          "evalue": "ignored",
          "traceback": [
            "\u001b[0;36m  File \u001b[0;32m\"<ipython-input-8-9a6bd94bdc58>\"\u001b[0;36m, line \u001b[0;32m8\u001b[0m\n\u001b[0;31m    print(nameExist('Donald', 'Trump'))\u001b[0m\n\u001b[0m        ^\u001b[0m\n\u001b[0;31mIndentationError\u001b[0m\u001b[0;31m:\u001b[0m expected an indented block\n"
          ]
        }
      ]
    }
  ]
}