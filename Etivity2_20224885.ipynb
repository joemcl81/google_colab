{
  "nbformat": 4,
  "nbformat_minor": 0,
  "metadata": {
    "colab": {
      "name": "E-tivity2_20224885.ipynb",
      "provenance": [],
      "authorship_tag": "ABX9TyNPQC+//Gc0l8zdDdwmtxXN",
      "include_colab_link": true
    },
    "kernelspec": {
      "name": "python3",
      "display_name": "Python 3"
    }
  },
  "cells": [
    {
      "cell_type": "markdown",
      "metadata": {
        "id": "view-in-github",
        "colab_type": "text"
      },
      "source": [
        "<a href=\"https://colab.research.google.com/github/joemcl81/google_colab/blob/main/Etivity2_20224885.ipynb\" target=\"_parent\"><img src=\"https://colab.research.google.com/assets/colab-badge.svg\" alt=\"Open In Colab\"/></a>"
      ]
    },
    {
      "cell_type": "markdown",
      "metadata": {
        "id": "8dHXZItiuceo"
      },
      "source": [
        "Joseph Mc Laughlin, 20224885\n",
        "\n",
        "E-tivity2"
      ]
    },
    {
      "cell_type": "markdown",
      "metadata": {
        "id": "Uz3Lb2HbumP0"
      },
      "source": [
        "Task 1: [2 marks]\n",
        "\n",
        "Modify the code below to achieve the following:\n",
        "\n",
        "(a) the editDistance function should measure the Levenshtein distance,  i. e. insertion cost = 1, deletion cost = 1, substitution cost = 2\n",
        "\n",
        "(b) use the Python time.time() function to measure the processing time\n"
      ]
    },
    {
      "cell_type": "code",
      "metadata": {
        "id": "xyaizOFiubr5",
        "outputId": "d5fee085-8ee2-41f0-8f20-9a49fdb1a001",
        "colab": {
          "base_uri": "https://localhost:8080/"
        }
      },
      "source": [
        "import time\n",
        "def edDistRecursive(x, y):\n",
        "  start = time.time()\n",
        "  #print(\"Time elapsed on working...\")\n",
        "  if len(x) == 0: return len(y)\n",
        "  if len(y) == 0: return len(x)\n",
        "  delt = 2 if x[-1] != y[-1] else 0\n",
        "  diag = edDistRecursive(x[:-1], y[:-1]) + delt\n",
        "  vert = edDistRecursive(x[:-1], y) + 1\n",
        "  horz = edDistRecursive(x, y[:-1]) + 1\n",
        "  end = time.time()\n",
        "  return min(diag, vert, horz)\n",
        "  print(end - start)\n",
        "start = time.time()\n",
        "print(edDistRecursive(\"INTENTION\",\"EXECUTION\"))\n",
        "end = time.time()\n",
        "print(end-start)"
      ],
      "execution_count": 8,
      "outputs": [
        {
          "output_type": "stream",
          "text": [
            "8\n",
            "1.1196160316467285\n"
          ],
          "name": "stdout"
        }
      ]
    },
    {
      "cell_type": "code",
      "metadata": {
        "id": "DuawxMVnCoRi",
        "outputId": "6edbdbff-61ba-4b0b-ade3-6cd25c0c932f",
        "colab": {
          "base_uri": "https://localhost:8080/"
        }
      },
      "source": [
        "def levenshtein(x, y):\n",
        "    start = time.time()\n",
        "    if len(x) == 0: return len(y)\n",
        "    if len(y) == 0: return len(x)\n",
        "    if x[-1] == y[-1]:\n",
        "        cost = 0\n",
        "    else:\n",
        "        cost = 2\n",
        "    res = min([levenshtein(x[:-1], y)+1,\n",
        "               levenshtein(x, y[:-1])+1, \n",
        "               levenshtein(x[:-1], y[:-1]) + cost])\n",
        "    end = time.time()\n",
        "    return res\n",
        "\n",
        "start = time.time()\n",
        "print(levenshtein(\"INTENTION\", \"EXECUTION\"))\n",
        "end = time.time()\n",
        "print(end-start)"
      ],
      "execution_count": 2,
      "outputs": [
        {
          "output_type": "stream",
          "text": [
            "8\n",
            "1.1289594173431396\n"
          ],
          "name": "stdout"
        }
      ]
    },
    {
      "cell_type": "markdown",
      "metadata": {
        "id": "DvGYpybyvAbm"
      },
      "source": [
        "Task 2: [4 marks]\n",
        "\n",
        "Modify the code below to achieve the following:\n",
        "\n",
        "(a) the editDistance function should measure the Levenshtein distance, i.e. insertion cost = 1, deletion cost = 1, substitution cost = 2\n",
        "\n",
        "(b) use the Python time.time() function to measure the processing time\n",
        "\n",
        "(c) Augment the code so that it outputs a minimum distance table including backtrace pointers in each cell (as shown in the sample output below). you will need to store pointers and add a stage to compute the backtrace.\n",
        "\n"
      ]
    },
    {
      "cell_type": "code",
      "metadata": {
        "id": "xF531ujevIM8",
        "outputId": "75cbe48e-49e9-4530-83d2-7ed45513689f",
        "colab": {
          "base_uri": "https://localhost:8080/"
        }
      },
      "source": [
        "# A Dynamic Programming based Python program for edit\n",
        "# distance problem\n",
        "def editDistDP(str1, str2, m, n):\n",
        "   start = time.time()\n",
        "   # Create a table to store results of subproblems\n",
        "   dp = [[0 for x in range(n + 1)] for x in range(m + 1)]\n",
        "    # Fill dp[][] in bottom up manner\n",
        "   for i in range(m + 1):\n",
        "       for j in range(n + 1):\n",
        "            # If first string is empty, only option is to\n",
        "           # insert all characters of second string\n",
        "           if i == 0:\n",
        "               dp[i][j] = j    # Min. operations = j\n",
        "            # If second string is empty, only option is to\n",
        "           # remove all characters of second string\n",
        "           elif j == 0:\n",
        "               dp[i][j] = i    # Min. operations = i\n",
        "            # If last characters are same, ignore last char\n",
        "           # and recur for remaining string\n",
        "           elif str1[i-1] == str2[j-1]:\n",
        "               dp[i][j] = dp[i-1][j-1]\n",
        "            # If last character are different, consider all\n",
        "           # possibilities and find minimum\n",
        "           else:\n",
        "               dp[i][j] = 1 + min(dp[i][j-1],        # Insert\n",
        "                                  dp[i-1][j],        # Remove\n",
        "                                  dp[i-1][j-1] + 1)    # Replace\n",
        "   end = time.time()\n",
        "   return dp[m][n], \"Processing time =  %s\" %(end - start)\n",
        " # Driver program\n",
        "str1 = \"INTENTION\"\n",
        "str2 = \"EXECUTION\"\n",
        "print(editDistDP(str1, str2, len(str1), len(str2)))\n",
        "# This code is contributed by Bhavya Jain"
      ],
      "execution_count": 3,
      "outputs": [
        {
          "output_type": "stream",
          "text": [
            "(8, 'Processing time =  5.507469177246094e-05')\n"
          ],
          "name": "stdout"
        }
      ]
    },
    {
      "cell_type": "code",
      "metadata": {
        "id": "pI45lB-GgwDq",
        "outputId": "025d5f2c-dc99-4297-f1ae-51db03efe776",
        "colab": {
          "base_uri": "https://localhost:8080/"
        }
      },
      "source": [
        "\n",
        "def editDistDP(str1, str2):\n",
        "    start = time.time()\n",
        "    rows = len(str1)+1\n",
        "    cols = len(str2)+1\n",
        "    dist = [[0 for x in range(cols)] for x in range(rows)]\n",
        "\n",
        "    # source prefixes can be transformed into empty strings \n",
        "    # by deletions:\n",
        "    for i in range(1, rows):\n",
        "        dist[i][0] = i\n",
        "\n",
        "    # target prefixes can be created from an empty source string\n",
        "    # by inserting the characters\n",
        "    for i in range(1, cols):\n",
        "        dist[0][i] = i\n",
        "        \n",
        "    for col in range(1, cols):\n",
        "        for row in range(1, rows):\n",
        "            if str1[row-1] == str2[col-1]:\n",
        "                cost = 0\n",
        "            else:\n",
        "                cost = 2\n",
        "            dist[row][col] = min(dist[row-1][col] + 1,      # deletion\n",
        "                                 dist[row][col-1] + 1,      # insertion\n",
        "                                 dist[row-1][col-1] + cost) # substitution\n",
        "\n",
        "    for r in range(rows):\n",
        "        print(dist[r])\n",
        "    \n",
        "    end = time.time()\n",
        "    return \"Levenshtein distance = %s \" % dist[row][col], \"Processing time =  %s\" %(end - start)\n",
        "\n",
        "print(editDistDP(\"INTENTION\", \"EXECUTION\"))"
      ],
      "execution_count": 6,
      "outputs": [
        {
          "output_type": "stream",
          "text": [
            "[0, 1, 2, 3, 4, 5, 6, 7, 8, 9]\n",
            "[1, 2, 3, 4, 5, 6, 7, 6, 7, 8]\n",
            "[2, 3, 4, 5, 6, 7, 8, 7, 8, 7]\n",
            "[3, 4, 5, 6, 7, 8, 7, 8, 9, 8]\n",
            "[4, 3, 4, 5, 6, 7, 8, 9, 10, 9]\n",
            "[5, 4, 5, 6, 7, 8, 9, 10, 11, 10]\n",
            "[6, 5, 6, 7, 8, 9, 8, 9, 10, 11]\n",
            "[7, 6, 7, 8, 9, 10, 9, 8, 9, 10]\n",
            "[8, 7, 8, 9, 10, 11, 10, 9, 8, 9]\n",
            "[9, 8, 9, 10, 11, 12, 11, 10, 9, 8]\n",
            "('Levenshtein distance = 8 ', 'Processing time =  0.00034308433532714844')\n"
          ],
          "name": "stdout"
        }
      ]
    },
    {
      "cell_type": "markdown",
      "metadata": {
        "id": "ydSSNGQavId7"
      },
      "source": [
        "Task 3: [4 marks]\n",
        "\n",
        "(a) Install the First and Last Names Dataset (https://github.com/philipperemy/name-dataset).  (!pip install names-dataset)\n",
        "\n",
        "(b) Install the jellyfish library for doing approximate and phonetic matching of strings (https://github.com/jamesturk/jellyfish)  (!pip install jellyfish)\n",
        "\n",
        "(c) Write a function that takes your firstName and lastName as input and checks if they exist in the dataset. ⬤\n",
        "\n",
        "(d) Write a function that takes your firstName and lastName as input and prints out their  Soundex codes (use the Soundex function in the jellyfish library). ⬤\n",
        "\n",
        "(e) Write a function that takes your firstName as input and prints out a list of first names in the dataset whose Soundex codes are the same as your firstName’s Soundex code. ⬤\n",
        "\n",
        "(f) Write a function that takes your firstName and lastName as input and returns their Levenshtein Distance (use the Levenshtein Distance function in the jellyfish library). [1 mark] ⬤\n"
      ]
    },
    {
      "cell_type": "code",
      "metadata": {
        "id": "k6rhaaS7wLuD",
        "outputId": "90d4c776-6b6a-4a7d-da06-bb7d7aea2125",
        "colab": {
          "base_uri": "https://localhost:8080/"
        }
      },
      "source": [
        "!pip install names-dataset\n",
        "!pip install jellyfish\n",
        "\n",
        "import re\n",
        "from names_dataset import NameDataset\n",
        "import jellyfish as jf\n",
        "m = NameDataset()\n",
        "\n",
        "def nameExist(firstName, lastName):\n",
        "  return \"Firstname, Lastname is in dataset: %s \" % m.search_first_name(firstName), m.search_last_name(lastName)\n",
        "#Test\n",
        "print(nameExist(\"Donald\", \"Trump\"))\n",
        "print(nameExist(\"Joe\", \"Biden\"))\n",
        "\n",
        "def nameSoundex(firstName, lastName):\n",
        "  return \"Firstname, Lastname Soundex Codes = %s \" % jf.soundex(firstName), jf.soundex(lastName)\n",
        "#Test\n",
        "print(nameSoundex('Donald', 'Trump'))\n",
        "print(nameSoundex('Joe', 'Biden'))\n",
        "\n",
        "def matchSoundex(firstName):\n",
        "  c = jf.soundex(firstName)\n",
        "  for i in m.first_names:\n",
        "    x = re.match(\"[ -~]\", i)\n",
        "    if x:\n",
        "      if c == jf.soundex(i):\n",
        "        print(i)     \n",
        "# Test\n",
        "print(matchSoundex('Donald'))\n",
        "print(matchSoundex('Joe'))\n",
        "\n",
        "def nameDistance(firstName , lastName ):\n",
        "  return \"Levenshtein distance = %s \" % jf.levenshtein_distance(firstName, lastName)\n",
        "#Test\n",
        "print(nameDistance('Donald', 'Trump'))\n",
        "print(nameDistance('Joe', 'Biden'))"
      ],
      "execution_count": 9,
      "outputs": [
        {
          "output_type": "stream",
          "text": [
            "Collecting names-dataset\n",
            "\u001b[?25l  Downloading https://files.pythonhosted.org/packages/98/98/a4f5ac031a8092b0de61097aad407ce78df2574df6dc03143a76574be726/names_dataset-1.9.1-py3-none-any.whl (1.4MB)\n",
            "\u001b[K     |████████████████████████████████| 1.4MB 4.4MB/s \n",
            "\u001b[?25hInstalling collected packages: names-dataset\n",
            "Successfully installed names-dataset-1.9.1\n",
            "Collecting jellyfish\n",
            "\u001b[?25l  Downloading https://files.pythonhosted.org/packages/6c/09/927ae35fc5a9f70abb6cc2c27ee88fc48549f7bc4786c1d4b177c22e997d/jellyfish-0.8.2-cp36-cp36m-manylinux2014_x86_64.whl (93kB)\n",
            "\u001b[K     |████████████████████████████████| 102kB 3.6MB/s \n",
            "\u001b[?25hInstalling collected packages: jellyfish\n",
            "Successfully installed jellyfish-0.8.2\n",
            "('Firstname, Lastname is in dataset: True ', True)\n",
            "('Firstname, Lastname is in dataset: True ', False)\n",
            "('Firstname, Lastname Soundex Codes = D543 ', 'T651')\n",
            "('Firstname, Lastname Soundex Codes = J000 ', 'B350')\n",
            "donold\n",
            "danield\n",
            "donnald\n",
            "donaldson\n",
            "donalda\n",
            "donlad\n",
            "donaldina\n",
            "doneld\n",
            "danald\n",
            "donelda\n",
            "doanld\n",
            "daniel-edoard\n",
            "donald\n",
            "denelda\n",
            "donaldeen\n",
            "donalt\n",
            "demilade\n",
            "donald-james\n",
            "donaldo\n",
            "dómhildur\n",
            "dimilta\n",
            "donald-john\n",
            "donaldine\n",
            "donld\n",
            "ddnald\n",
            "None\n",
            "joe\n",
            "jiho\n",
            "jiawei\n",
            "jihoo\n",
            "jiyah\n",
            "jua\n",
            "jc\n",
            "jay\n",
            "jhuhi\n",
            "jio\n",
            "jae\n",
            "joie\n",
            "jeu\n",
            "jaeya\n",
            "joya\n",
            "jaya\n",
            "joia\n",
            "jaiyah\n",
            "jahya\n",
            "jahiyah\n",
            "jahi\n",
            "ji\n",
            "jai\n",
            "jiao\n",
            "jhia\n",
            "jui\n",
            "johah\n",
            "jie\n",
            "joyia\n",
            "jay-\n",
            "joahua\n",
            "jya\n",
            "johao\n",
            "jah\n",
            "jew\n",
            "jihae\n",
            "joé\n",
            "jaewoo\n",
            "joye\n",
            "joey\n",
            "joohi\n",
            "jyia\n",
            "jaiah\n",
            "joyah\n",
            "juho\n",
            "jeeo\n",
            "jayy\n",
            "joi\n",
            "juhee\n",
            "jiyu\n",
            "jaye\n",
            "jayiah\n",
            "jkai\n",
            "jehu\n",
            "jiayi\n",
            "jiwoo\n",
            "jee\n",
            "jaihao\n",
            "jeeya\n",
            "jy\n",
            "juhi\n",
            "jahey\n",
            "joy\n",
            "jey\n",
            "jaie\n",
            "jea\n",
            "jhai\n",
            "jiayou\n",
            "jyiah\n",
            "joão\n",
            "jw\n",
            "jahia\n",
            "jyie\n",
            "joyaa\n",
            "jia\n",
            "joh\n",
            "jiya\n",
            "jhiya\n",
            "johiah\n",
            "jehiah\n",
            "ju\n",
            "jiah\n",
            "joah\n",
            "jsai\n",
            "joei\n",
            "joyee\n",
            "joao\n",
            "jaea\n",
            "jyah\n",
            "jaiya\n",
            "jaia\n",
            "joa\n",
            "jsiah\n",
            "jahai\n",
            "jayah\n",
            "jhy\n",
            "jkia\n",
            "jayia\n",
            "jhue\n",
            "jewa\n",
            "jeya\n",
            "jiaya\n",
            "joo\n",
            "joee\n",
            "jiu\n",
            "jiahao\n",
            "jo\n",
            "joua\n",
            "jahiya\n",
            "johua\n",
            "jziah\n",
            "jye\n",
            "jiayue\n",
            "joiya\n",
            "jkiyah\n",
            "jue\n",
            "jaiyi\n",
            "juha\n",
            "None\n",
            "Levenshtein distance = 6 \n",
            "Levenshtein distance = 4 \n"
          ],
          "name": "stdout"
        }
      ]
    }
  ]
}